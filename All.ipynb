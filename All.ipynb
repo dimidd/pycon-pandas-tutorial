{
 "cells": [
  {
   "cell_type": "code",
   "execution_count": null,
   "metadata": {},
   "outputs": [],
   "source": [
    "%matplotlib inline\n",
    "import pandas as pd\n",
    "idx = pd.IndexSlice"
   ]
  },
  {
   "cell_type": "code",
   "execution_count": null,
   "metadata": {},
   "outputs": [],
   "source": [
    "from IPython.core.display import HTML\n",
    "css = open('style-table.css').read() + open('style-notebook.css').read()\n",
    "HTML('<style>{}</style>'.format(css))"
   ]
  },
  {
   "cell_type": "code",
   "execution_count": null,
   "metadata": {},
   "outputs": [],
   "source": [
    "%%time\n",
    "cast = pd.read_csv('data/cast.csv')"
   ]
  },
  {
   "cell_type": "code",
   "execution_count": null,
   "metadata": {},
   "outputs": [],
   "source": [
    "cast.head()"
   ]
  },
  {
   "cell_type": "code",
   "execution_count": null,
   "metadata": {},
   "outputs": [],
   "source": [
    "%%time\n",
    "release_dates = pd.read_csv('data/release_dates.csv',\n",
    "                            parse_dates=['date'], infer_datetime_format=True)"
   ]
  },
  {
   "cell_type": "code",
   "execution_count": null,
   "metadata": {},
   "outputs": [],
   "source": [
    "release_dates.head()"
   ]
  },
  {
   "cell_type": "code",
   "execution_count": null,
   "metadata": {},
   "outputs": [],
   "source": [
    "titles = cast[['title', 'year']].drop_duplicates().reset_index(drop=True)\n",
    "titles.head()"
   ]
  },
  {
   "cell_type": "markdown",
   "metadata": {},
   "source": [
    "### Years"
   ]
  },
  {
   "cell_type": "code",
   "execution_count": null,
   "metadata": {},
   "outputs": [],
   "source": [
    "# 1. How many movies are listed in the `titles` dataframe?\n",
    "\n",
    "len(titles)"
   ]
  },
  {
   "cell_type": "code",
   "execution_count": null,
   "metadata": {},
   "outputs": [],
   "source": [
    "# 1. What is the name and year of the very first movie ever made?\n",
    "\n",
    "titles.sort_values('year').head(1)"
   ]
  },
  {
   "cell_type": "code",
   "execution_count": null,
   "metadata": {},
   "outputs": [],
   "source": [
    "# 1. How many years into the future does the IMDB database list movie titles?\n",
    "\n",
    "titles.sort_values('year').tail(3)#.year - 2015"
   ]
  },
  {
   "cell_type": "code",
   "execution_count": null,
   "metadata": {},
   "outputs": [],
   "source": [
    "# 1. How many movies listed in `titles` came out in 1950?\n",
    "\n",
    "len(titles[titles.year == 1950])\n",
    "\n",
    "# or: (titles.year == 1950).sum()"
   ]
  },
  {
   "cell_type": "code",
   "execution_count": null,
   "metadata": {},
   "outputs": [],
   "source": [
    "# 1. How many movies came out in 1960?\n",
    "\n",
    "len(titles[titles.year == 1960])"
   ]
  },
  {
   "cell_type": "code",
   "execution_count": null,
   "metadata": {},
   "outputs": [],
   "source": [
    "# 1. How many movies came out in each year of the 1970s?\n",
    "#    (Hint: try a Python \"for\" loop.)\n",
    "\n",
    "for y in range(1970, 1980):\n",
    "    print(y, (titles.year == y).sum())"
   ]
  },
  {
   "cell_type": "code",
   "execution_count": null,
   "metadata": {},
   "outputs": [],
   "source": [
    "# 1. How many movies came out during your own lifetime,\n",
    "#    from the year of your birth through 2014?\n",
    "\n",
    "len(titles[(titles.year >= 1974) & (titles.year <= 2014)])"
   ]
  },
  {
   "cell_type": "code",
   "execution_count": null,
   "metadata": {},
   "outputs": [],
   "source": [
    "# 2. Use \"value_counts\" to determine how many movies came out\n",
    "#    in each year of the 1970s.\n",
    "\n",
    "titles[titles.year // 10 == 197].year.value_counts().sort_index()"
   ]
  },
  {
   "cell_type": "code",
   "execution_count": null,
   "metadata": {},
   "outputs": [],
   "source": [
    "# 3. Use \"groupby\" to determine how many movies came out in each year of the 1970s.\n",
    "\n",
    "titles.groupby('year').size().loc[1970:1979]"
   ]
  },
  {
   "cell_type": "code",
   "execution_count": null,
   "metadata": {},
   "outputs": [],
   "source": []
  },
  {
   "cell_type": "markdown",
   "metadata": {
    "collapsed": true
   },
   "source": [
    "### Titles"
   ]
  },
  {
   "cell_type": "code",
   "execution_count": null,
   "metadata": {},
   "outputs": [],
   "source": [
    "# 1. What are the names of the movies made through 1906?\n",
    "\n",
    "titles[titles.year <= 1906][['title']]"
   ]
  },
  {
   "cell_type": "code",
   "execution_count": null,
   "metadata": {},
   "outputs": [],
   "source": [
    "# 1. What movies have titles that fall between Star Trek and Star Wars in the alphabet?\n",
    "\n",
    "titles[(titles.title >= 'Star Trek') & (titles.title <= 'Star Wars')]"
   ]
  },
  {
   "cell_type": "code",
   "execution_count": null,
   "metadata": {},
   "outputs": [],
   "source": [
    "# 2. Use an index and .loc[] to find the movies whose titles fall between Star Trek\n",
    "#    and Star Wars in the alphabet.\n",
    "\n",
    "t = titles.copy()\n",
    "t = t.set_index('title').sort_index()\n",
    "t.loc['Star Trek':'Star Wars']"
   ]
  },
  {
   "cell_type": "code",
   "execution_count": null,
   "metadata": {},
   "outputs": [],
   "source": [
    "# 2. Use an index and .loc[] to retrieve the names of the movies made through 1906.\n",
    "\n",
    "titles.set_index('year').sort_index().loc[1800:1906]"
   ]
  },
  {
   "cell_type": "code",
   "execution_count": null,
   "metadata": {},
   "outputs": [],
   "source": [
    "# 2. What are the 15 most common movie titles in film history?\n",
    "\n",
    "titles.title.value_counts().head(15)"
   ]
  },
  {
   "cell_type": "code",
   "execution_count": null,
   "metadata": {},
   "outputs": [],
   "source": [
    "# Use this for session 3?\n",
    "\n",
    "i = cast.set_index('name').sort_index()"
   ]
  },
  {
   "cell_type": "code",
   "execution_count": null,
   "metadata": {},
   "outputs": [],
   "source": [
    "a = i.loc['Cary Grant',['year','n']].groupby('year').agg(['min', 'mean', 'max'])\n",
    "a.loc[:1942].plot(kind='area', stacked=False)\n",
    "a"
   ]
  },
  {
   "cell_type": "code",
   "execution_count": null,
   "metadata": {
    "scrolled": false
   },
   "outputs": [],
   "source": [
    "# 5. What are the 5 longest movie titles ever?\n",
    "\n",
    "pd.set_option('max_colwidth', 300)\n",
    "\n",
    "t = titles.copy()\n",
    "t['len'] = t.title.str.len()\n",
    "t = t.sort_values('len', ascending=False)\n",
    "t.head()"
   ]
  },
  {
   "cell_type": "code",
   "execution_count": null,
   "metadata": {},
   "outputs": [],
   "source": [
    "# 5. What are the 15 most popular movie titles, if you strip off the suffixes like\n",
    "#    (II) and (III) that the IMDB adds to distinguish movies shown in the same year?\n",
    "\n",
    "titles.title.str.extract('^([^(]*)').value_counts().head(15)"
   ]
  },
  {
   "cell_type": "markdown",
   "metadata": {},
   "source": [
    "### How many movies actors have been in"
   ]
  },
  {
   "cell_type": "code",
   "execution_count": null,
   "metadata": {},
   "outputs": [],
   "source": [
    "# 1. How many movies has Judi Dench acted in?\n",
    "\n",
    "len(cast[cast.name == 'Judi Dench'])"
   ]
  },
  {
   "cell_type": "code",
   "execution_count": null,
   "metadata": {},
   "outputs": [],
   "source": [
    "# 1. How many movies did Sidney Poitier appear in?\n",
    "\n",
    "c = cast\n",
    "c = c[c.name == 'Sidney Poitier']\n",
    "len(c)"
   ]
  },
  {
   "cell_type": "code",
   "execution_count": null,
   "metadata": {},
   "outputs": [],
   "source": [
    "# 1. In how many of his movies was Sidney Poitier the lead (`n==1`)?\n",
    "\n",
    "c = cast\n",
    "c = c[c.name == 'Sidney Poitier']\n",
    "c = c[c.n == 1]\n",
    "len(c)"
   ]
  },
  {
   "cell_type": "markdown",
   "metadata": {},
   "source": [
    "### Pulling and displaying movie credits"
   ]
  },
  {
   "cell_type": "code",
   "execution_count": null,
   "metadata": {},
   "outputs": [],
   "source": [
    "# 1. List the movies, sorted by year, in which Judi Dench starred as lead actor.\n",
    "\n",
    "c = cast\n",
    "c = c[c.name == 'Judi Dench']\n",
    "c = c[c.n == 1]\n",
    "c.sort_values('year')"
   ]
  },
  {
   "cell_type": "code",
   "execution_count": null,
   "metadata": {},
   "outputs": [],
   "source": [
    "# 1. Who was credited in the 1972 version of Sleuth, in order by `n` rank?\n",
    "\n",
    "c = cast\n",
    "c = c[c.title == 'Sleuth']\n",
    "c = c[c.year == 1972]\n",
    "c.sort_values('n')"
   ]
  },
  {
   "cell_type": "markdown",
   "metadata": {},
   "source": [
    "### Common character names"
   ]
  },
  {
   "cell_type": "code",
   "execution_count": null,
   "metadata": {},
   "outputs": [],
   "source": [
    "# 2. What are the 11 most common character names in movie history?\n",
    "\n",
    "cast.character.value_counts().head(11)"
   ]
  },
  {
   "cell_type": "code",
   "execution_count": null,
   "metadata": {},
   "outputs": [],
   "source": [
    "# 3. Which actors have played the role “Zombie” the most times?\n",
    "\n",
    "c = cast\n",
    "c = c[c.character == 'Zombie']\n",
    "c = c.groupby('name').size().sort_values()\n",
    "c.tail(5)"
   ]
  },
  {
   "cell_type": "code",
   "execution_count": null,
   "metadata": {},
   "outputs": [],
   "source": [
    "# 3. Which ten people have appeared most often as “Herself” over the history of film?\n",
    "\n",
    "c = cast\n",
    "c = c[c.character == 'Herself']\n",
    "c = c.groupby('name').size().sort_values()\n",
    "c.tail(10)"
   ]
  },
  {
   "cell_type": "code",
   "execution_count": null,
   "metadata": {},
   "outputs": [],
   "source": [
    "# 3. Which ten people have appeared most often as “Himself” over the history of film?\n",
    "\n",
    "c = cast\n",
    "c = c[c.character == 'Himself']\n",
    "c = c.groupby('name').size().sort_values()\n",
    "c.tail(10)"
   ]
  },
  {
   "cell_type": "code",
   "execution_count": null,
   "metadata": {},
   "outputs": [],
   "source": [
    "# 4. Take the 50 most common character names in film.\n",
    "#    Which are most often played by men?\n",
    "\n",
    "c = cast\n",
    "clist = c.character.value_counts().head(50)\n",
    "clist.head()"
   ]
  },
  {
   "cell_type": "code",
   "execution_count": null,
   "metadata": {},
   "outputs": [],
   "source": [
    "clist.tail()"
   ]
  },
  {
   "cell_type": "code",
   "execution_count": null,
   "metadata": {},
   "outputs": [],
   "source": [
    "cast_by_character = cast.sort_values('character').set_index('character')"
   ]
  },
  {
   "cell_type": "code",
   "execution_count": null,
   "metadata": {},
   "outputs": [],
   "source": [
    "c = cast_by_character.loc[clist.index][['type']]\n",
    "c = c.reset_index()\n",
    "c = c.groupby(['character', 'type']).size()\n",
    "c = c.unstack()\n",
    "c['ratio'] = c.actress / (c.actor + c.actress)\n",
    "c = c.sort_values('ratio')\n",
    "c.head()"
   ]
  },
  {
   "cell_type": "code",
   "execution_count": null,
   "metadata": {},
   "outputs": [],
   "source": [
    "# 4. …which of those 50 characters are most often played by women?\n",
    "\n",
    "c.tail()"
   ]
  },
  {
   "cell_type": "code",
   "execution_count": null,
   "metadata": {},
   "outputs": [],
   "source": [
    "# 4. …which of those 50 characters have a ratio closest to 0.5?\n",
    "\n",
    "c[(c.ratio > 0.4) & (c.ratio < 0.6)]"
   ]
  },
  {
   "cell_type": "code",
   "execution_count": null,
   "metadata": {},
   "outputs": [],
   "source": []
  },
  {
   "cell_type": "markdown",
   "metadata": {},
   "source": [
    "### Who has been in the most movies"
   ]
  },
  {
   "cell_type": "code",
   "execution_count": null,
   "metadata": {},
   "outputs": [],
   "source": [
    "# 2. Which actors or actresses appeared in the most movies in the year 1945?\n",
    "\n",
    "cast[cast.year == 1945].name.value_counts().head(10)"
   ]
  },
  {
   "cell_type": "code",
   "execution_count": null,
   "metadata": {},
   "outputs": [],
   "source": [
    "# 2. Which actors or actresses appeared in the most movies in the year 1985?\n",
    "\n",
    "cast[cast.year == 1985].name.value_counts().head(10)"
   ]
  },
  {
   "cell_type": "code",
   "execution_count": null,
   "metadata": {},
   "outputs": [],
   "source": [
    "%%time\n",
    "# 2. Create a `cast_by_title_year` dataframe indexed by title and year\n",
    "#    to use in the next few questions.\n",
    "\n",
    "cast_by_title_year = cast.set_index(['title', 'year']).sort_index()\n",
    "cast_by_title_year.head()"
   ]
  },
  {
   "cell_type": "code",
   "execution_count": null,
   "metadata": {},
   "outputs": [],
   "source": [
    "%%time\n",
    "# 2. Use `cast_by_title_year` to find the stars of the film Inception\n",
    "#    and order them by `n` before displaying the top 10.\n",
    "\n",
    "cast_by_title_year.loc['Inception'].sort_values('n').head(10)"
   ]
  },
  {
   "cell_type": "code",
   "execution_count": null,
   "metadata": {},
   "outputs": [],
   "source": [
    "# 2. Use `cast_by_title_year` to find the first 10 stars in the 1996 film Hamlet,\n",
    "#    and order them by `n`.\n",
    "\n",
    "cast_by_title_year.loc['Hamlet',1996].sort_values('n').head(10)"
   ]
  },
  {
   "cell_type": "code",
   "execution_count": null,
   "metadata": {},
   "outputs": [],
   "source": [
    "%%time\n",
    "# 2. Write a `for` loop that, for the top 9 actors in the 1977 movie Star Wars,\n",
    "#    determines how many movies they starred in after 1977.\n",
    "\n",
    "names = cast_by_title_year.loc['Star Wars',1977].sort_values('n').head(9).name\n",
    "for name in names:\n",
    "    print(name, len(cast[(cast.name == name) & (cast.year > 1977)]))"
   ]
  },
  {
   "cell_type": "code",
   "execution_count": null,
   "metadata": {},
   "outputs": [],
   "source": [
    "# 2. Create an indexed version of `cast` that, once built, lets you answer\n",
    "#    the previous question with a `for` loop that finishes in under a second.\n",
    "\n",
    "i = cast.set_index('name').sort_index()"
   ]
  },
  {
   "cell_type": "code",
   "execution_count": null,
   "metadata": {},
   "outputs": [],
   "source": [
    "%%time\n",
    "for name in names:\n",
    "    c = i.loc[name]\n",
    "    c = c[c.year > 1977]\n",
    "    #c = c[(c.character != 'Himself') & (c.character != 'Herself')]\n",
    "    print(name, len(c))"
   ]
  },
  {
   "cell_type": "code",
   "execution_count": null,
   "metadata": {},
   "outputs": [],
   "source": []
  },
  {
   "cell_type": "code",
   "execution_count": null,
   "metadata": {},
   "outputs": [],
   "source": [
    "# 3. How many people were cast in each of the movies named \"Hamlet”?\n",
    "\n",
    "c = cast\n",
    "c = c[c.title == 'Hamlet']\n",
    "c = c.groupby('year').size() \n",
    "c"
   ]
  },
  {
   "cell_type": "code",
   "execution_count": null,
   "metadata": {},
   "outputs": [],
   "source": []
  },
  {
   "cell_type": "code",
   "execution_count": null,
   "metadata": {},
   "outputs": [],
   "source": [
    "# 5. How many actors are in the cast of each version of Hamlet,\n",
    "#    including Hamlets with IMDB name collisions like \"Hamlet (II)\"\n",
    "#    and \"Hamlet (III)\"? [BAD]\n",
    "\n",
    "c = cast_by_title_year\n",
    "# c.loc['Hamlet':'Hamlet (Z'].index.value_counts()    - Drat\n",
    "# c.loc['Hamlet':'Hamlet (Z'].groupby(level=0).size() - Drat\n",
    "# c.loc['Hamlet':'Hamlet (Z'].groupby(level=1).size() - Drat\n",
    "c.loc['Hamlet':'Hamlet (Z'].groupby(level=[0,1]).size()\n",
    "\n",
    "# Or:\n",
    "#c = cast[(cast.title >= 'Hamlet') & (cast.title < 'Hamlet (Z')]\n",
    "#c.groupby(['title', 'year']).size()"
   ]
  },
  {
   "cell_type": "code",
   "execution_count": null,
   "metadata": {},
   "outputs": [],
   "source": []
  },
  {
   "cell_type": "markdown",
   "metadata": {
    "collapsed": true
   },
   "source": [
    "### Actors and Actresses"
   ]
  },
  {
   "cell_type": "code",
   "execution_count": null,
   "metadata": {},
   "outputs": [],
   "source": [
    "# 4. Build a dataframe with a row for each year with two columns:\n",
    "#    the number of roles for actors in that year's films,\n",
    "#    and the number of roles for actresses.\n",
    "\n",
    "aa = cast[['year', 'type']].groupby(['year', 'type']).size()\n",
    "aa = aa.loc[:2014].unstack()\n",
    "aa.head()"
   ]
  },
  {
   "cell_type": "code",
   "execution_count": null,
   "metadata": {},
   "outputs": [],
   "source": [
    "# 4. Use that dataframe to make a kind='area' plot showing the total\n",
    "#    number of roles available over the history of film.\n",
    "\n",
    "aa.plot(kind='area')"
   ]
  },
  {
   "cell_type": "code",
   "execution_count": null,
   "metadata": {},
   "outputs": [],
   "source": [
    "f = aa.actor / (aa.actor + aa.actress)\n",
    "f.plot(ylim=[0,1], kind='area')"
   ]
  },
  {
   "cell_type": "code",
   "execution_count": null,
   "metadata": {},
   "outputs": [],
   "source": [
    "c = cast\n",
    "#c = c[c.year // 10 == 198]\n",
    "c = c[c.n <= 3]\n",
    "c = c.groupby(['year', 'type', 'n']).size()\n",
    "c = c.unstack(1)\n",
    "c.swaplevel(0,1).loc[1].plot(ylim=0, kind='area')\n",
    "#f = c.actor / (c.actor + c.actress)\n",
    "#f = f.unstack()\n",
    "#f.plot(ylim=[0,1])"
   ]
  },
  {
   "cell_type": "code",
   "execution_count": null,
   "metadata": {},
   "outputs": [],
   "source": []
  },
  {
   "cell_type": "markdown",
   "metadata": {},
   "source": [
    "### Rank over time"
   ]
  },
  {
   "cell_type": "code",
   "execution_count": null,
   "metadata": {},
   "outputs": [],
   "source": [
    "# 2. Define “leading actor” as an actor or actress whose `n==1`\n",
    "#    and “supporting actor” as `n==2` — what is the average year\n",
    "#    of all the supporting roles Judi Dench has had?\n",
    "\n",
    "c = cast\n",
    "c = c[c.name == 'Judi Dench']\n",
    "print(c[c.n == 2].year.mean())"
   ]
  },
  {
   "cell_type": "code",
   "execution_count": null,
   "metadata": {},
   "outputs": [],
   "source": [
    "# 2. What is the average year of Judi Dench’s leading roles —\n",
    "#    is her career moving forwards toward leading roles\n",
    "#    or backwards towards supporting ones?\n",
    "\n",
    "print(c[c.n == 1].year.mean())"
   ]
  },
  {
   "cell_type": "code",
   "execution_count": null,
   "metadata": {},
   "outputs": [],
   "source": [
    "# 2. Did Sidney Poitier move forward or back over his career?\n",
    "\n",
    "c = cast\n",
    "c = c[c.name == 'Sidney Poitier']\n",
    "print(c[c.n == 2].year.mean())\n",
    "print(c[c.n == 1].year.mean())"
   ]
  },
  {
   "cell_type": "code",
   "execution_count": null,
   "metadata": {},
   "outputs": [],
   "source": [
    "# 2. What about Michael Caine?\n",
    "\n",
    "c = cast\n",
    "c = c[c.name == 'Michael Caine']\n",
    "print(c[c.n == 2].year.mean())\n",
    "print(c[c.n == 1].year.mean())"
   ]
  },
  {
   "cell_type": "code",
   "execution_count": null,
   "metadata": {},
   "outputs": [],
   "source": [
    "c = cast\n",
    "#c = c[c.year // 10 == 195]\n",
    "c = c[c.n.notnull()].groupby('name').n.agg(['size', 'mean'])\n",
    "c.head()"
   ]
  },
  {
   "cell_type": "code",
   "execution_count": null,
   "metadata": {},
   "outputs": [],
   "source": [
    "c = c[c['size'] >= 10]\n",
    "c = c.sort_values('mean')\n",
    "c.head(60)"
   ]
  },
  {
   "cell_type": "code",
   "execution_count": null,
   "metadata": {},
   "outputs": [],
   "source": []
  },
  {
   "cell_type": "markdown",
   "metadata": {
    "collapsed": true
   },
   "source": [
    "### Release dates"
   ]
  },
  {
   "cell_type": "code",
   "execution_count": null,
   "metadata": {},
   "outputs": [],
   "source": [
    "release_dates.head()"
   ]
  },
  {
   "cell_type": "code",
   "execution_count": null,
   "metadata": {},
   "outputs": [],
   "source": [
    "# 5. In which month is a movie whose name starts with the text\n",
    "#    \"The Lord of the Rings\" most likely to be released?\n",
    "\n",
    "r = release_dates\n",
    "r = r[r.title.str.startswith('The Lord of the Rings')]\n",
    "r = r[r.country == 'USA']\n",
    "r.date.dt.month.value_counts()"
   ]
  },
  {
   "cell_type": "code",
   "execution_count": null,
   "metadata": {},
   "outputs": [],
   "source": [
    "# 5. In which months is a movie whose name ends in the word \"Christmas\"\n",
    "#    most likely to be released?\n",
    "\n",
    "r = release_dates\n",
    "r = r[r.title.str.endswith('Christmas')]\n",
    "r = r[r.country == 'USA']\n",
    "r.date.dt.month.value_counts()"
   ]
  },
  {
   "cell_type": "code",
   "execution_count": null,
   "metadata": {},
   "outputs": [],
   "source": [
    "rd = release_dates.set_index(['title', 'year']).sort_index()\n",
    "rd.head()"
   ]
  },
  {
   "cell_type": "code",
   "execution_count": null,
   "metadata": {},
   "outputs": [],
   "source": [
    "rd.loc[[('#Beings', 2015), ('#Horror', 2015)]]"
   ]
  },
  {
   "cell_type": "code",
   "execution_count": null,
   "metadata": {},
   "outputs": [],
   "source": [
    "c = cast\n",
    "c = c[c.name == 'Tom Cruise'][['title', 'year']].drop_duplicates()\n",
    "#c = c.join(rd, ['title', 'year'])\n",
    "#c = c[c.country == 'USA']\n",
    "#c.date.dt.month.value_counts().sort_index().plot(kind='bar')\n",
    "c.values"
   ]
  },
  {
   "cell_type": "code",
   "execution_count": null,
   "metadata": {},
   "outputs": [],
   "source": [
    "# ASK\n",
    "# rd.loc[c]\n",
    "# rd.loc[c.values]\n",
    "# rd.loc[list(c.values)]"
   ]
  },
  {
   "cell_type": "code",
   "execution_count": null,
   "metadata": {},
   "outputs": [],
   "source": [
    "# 5. In what months of the year have Helen Mirren movies been most often released?\n",
    "\n",
    "c = cast\n",
    "c = c[c.name == 'Helen Mirren'][['title', 'year']].drop_duplicates()\n",
    "c = c.join(rd, ['title', 'year'])\n",
    "c = c[c.country == 'USA']\n",
    "c.date.dt.month.value_counts().sort_index().plot(kind='bar')"
   ]
  },
  {
   "cell_type": "code",
   "execution_count": null,
   "metadata": {},
   "outputs": [],
   "source": [
    "# 5. …Jeff Bridges movies?\n",
    "\n",
    "c = cast\n",
    "c = c[c.name == 'Jeff Bridges'][['title', 'year']].drop_duplicates()\n",
    "c = c.join(rd, ['title', 'year'])\n",
    "c = c[c.country == 'USA']\n",
    "c.date.dt.month.value_counts().sort_index().plot(kind='bar')"
   ]
  },
  {
   "cell_type": "code",
   "execution_count": null,
   "metadata": {},
   "outputs": [],
   "source": [
    "# 5. …Tom Cruise movies?\n",
    "\n",
    "c = cast\n",
    "c = c[c.name == 'Tom Cruise'][['title', 'year']].drop_duplicates()\n",
    "c = c.join(rd, ['title', 'year'])\n",
    "c = c[c.country == 'USA']\n",
    "c.date.dt.month.value_counts().sort_index().plot(kind='bar')"
   ]
  },
  {
   "cell_type": "code",
   "execution_count": null,
   "metadata": {},
   "outputs": [],
   "source": [
    "%%time\n",
    "# 5. Use join() to build a table of release dates indexed by actor,\n",
    "#    and use it to re-run the previous three questions efficiently.\n",
    "\n",
    "c = cast\n",
    "c = c[['name', 'title', 'year']]\n",
    "c = c.join(rd, ['title', 'year'])\n",
    "c = c[c.country == 'USA']\n",
    "c = c.set_index('name').sort_index()\n",
    "releases = c\n",
    "releases.head()"
   ]
  },
  {
   "cell_type": "code",
   "execution_count": null,
   "metadata": {},
   "outputs": [],
   "source": [
    "releases.loc['Tom Cruise'].date.dt.month.value_counts().sort_index().plot(kind='bar')"
   ]
  },
  {
   "cell_type": "code",
   "execution_count": null,
   "metadata": {},
   "outputs": [],
   "source": [
    "# pivot(self, index=None, columns=None, values=None)"
   ]
  },
  {
   "cell_type": "code",
   "execution_count": null,
   "metadata": {},
   "outputs": [],
   "source": [
    "cast.head()"
   ]
  },
  {
   "cell_type": "code",
   "execution_count": null,
   "metadata": {},
   "outputs": [],
   "source": [
    "c = cast\n",
    "c = c[c.year >= 1990]\n",
    "c = c[c.year <= 1993]\n",
    "c = c[c.name == 'George Clooney']\n",
    "#c = c[c.title == 'Inception']\n",
    "#c = c[c.n.notnull()]\n",
    "#c = c.pivot('name', 'year', 'title')\n",
    "c.fillna('')"
   ]
  },
  {
   "cell_type": "code",
   "execution_count": null,
   "metadata": {},
   "outputs": [],
   "source": []
  },
  {
   "cell_type": "code",
   "execution_count": null,
   "metadata": {},
   "outputs": [],
   "source": [
    "release_dates.head()"
   ]
  },
  {
   "cell_type": "code",
   "execution_count": null,
   "metadata": {},
   "outputs": [],
   "source": [
    "r = release_dates\n",
    "r = r[r.title.str.startswith('Star Wars: Episode')]\n",
    "r = r[r.country.str.startswith('U')]\n",
    "r.pivot('title', 'country', 'date')\n",
    "#r.pivot('country', 'title', 'date')"
   ]
  },
  {
   "cell_type": "code",
   "execution_count": null,
   "metadata": {},
   "outputs": [],
   "source": [
    "r = release_dates\n",
    "r = r[r.title.str.startswith('Star Wars: Episode')]\n",
    "r = r[r.country.str.startswith('U')]\n",
    "r.set_index(['title', 'country'])[['date']].unstack()"
   ]
  },
  {
   "cell_type": "code",
   "execution_count": null,
   "metadata": {},
   "outputs": [],
   "source": []
  },
  {
   "cell_type": "code",
   "execution_count": null,
   "metadata": {},
   "outputs": [],
   "source": []
  },
  {
   "cell_type": "code",
   "execution_count": null,
   "metadata": {},
   "outputs": [],
   "source": [
    "cast.head()"
   ]
  },
  {
   "cell_type": "code",
   "execution_count": null,
   "metadata": {},
   "outputs": [],
   "source": [
    "t = titles\n",
    "\n",
    "t.head()"
   ]
  },
  {
   "cell_type": "code",
   "execution_count": null,
   "metadata": {},
   "outputs": [],
   "source": [
    "c = cast\n",
    "c = c[c.title == 'Hamlet']\n",
    "c = c.set_index(['year', 'character'])#.unstack('type')\n",
    "c"
   ]
  },
  {
   "cell_type": "code",
   "execution_count": null,
   "metadata": {},
   "outputs": [],
   "source": [
    "c = cast\n",
    "c = c[c.title == 'Hamlet']\n",
    "c = c.set_index(['year', 'type'])#.unstack('type')\n",
    "c"
   ]
  },
  {
   "cell_type": "code",
   "execution_count": null,
   "metadata": {},
   "outputs": [],
   "source": []
  },
  {
   "cell_type": "code",
   "execution_count": null,
   "metadata": {},
   "outputs": [],
   "source": []
  },
  {
   "cell_type": "code",
   "execution_count": null,
   "metadata": {},
   "outputs": [],
   "source": []
  },
  {
   "cell_type": "code",
   "execution_count": null,
   "metadata": {},
   "outputs": [],
   "source": []
  },
  {
   "cell_type": "code",
   "execution_count": null,
   "metadata": {},
   "outputs": [],
   "source": []
  },
  {
   "cell_type": "code",
   "execution_count": null,
   "metadata": {},
   "outputs": [],
   "source": []
  },
  {
   "cell_type": "code",
   "execution_count": null,
   "metadata": {},
   "outputs": [],
   "source": []
  },
  {
   "cell_type": "code",
   "execution_count": null,
   "metadata": {},
   "outputs": [],
   "source": []
  },
  {
   "cell_type": "code",
   "execution_count": null,
   "metadata": {},
   "outputs": [],
   "source": []
  },
  {
   "cell_type": "code",
   "execution_count": null,
   "metadata": {},
   "outputs": [],
   "source": []
  }
 ],
 "metadata": {
  "kernelspec": {
   "display_name": "Python 3",
   "language": "python",
   "name": "python3"
  },
  "language_info": {
   "codemirror_mode": {
    "name": "ipython",
    "version": 3
   },
   "file_extension": ".py",
   "mimetype": "text/x-python",
   "name": "python",
   "nbconvert_exporter": "python",
   "pygments_lexer": "ipython3",
   "version": "3.7.0"
  }
 },
 "nbformat": 4,
 "nbformat_minor": 1
}
