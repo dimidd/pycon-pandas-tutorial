{
 "cells": [
  {
   "cell_type": "code",
   "execution_count": 1,
   "metadata": {
    "collapsed": false,
    "jupyter": {
     "outputs_hidden": false
    }
   },
   "outputs": [],
   "source": [
    "%matplotlib inline\n",
    "import pandas as pd"
   ]
  },
  {
   "cell_type": "code",
   "execution_count": 2,
   "metadata": {
    "collapsed": false,
    "jupyter": {
     "outputs_hidden": false
    }
   },
   "outputs": [
    {
     "data": {
      "text/html": [
       "<style>body {\n",
       "    margin: 0;\n",
       "    font-family: Helvetica;\n",
       "}\n",
       "table.dataframe {\n",
       "    border-collapse: collapse;\n",
       "    border: none;\n",
       "}\n",
       "table.dataframe tr {\n",
       "    border: none;\n",
       "}\n",
       "table.dataframe td, table.dataframe th {\n",
       "    margin: 0;\n",
       "    border: 1px solid white;\n",
       "    padding-left: 0.25em;\n",
       "    padding-right: 0.25em;\n",
       "}\n",
       "table.dataframe th:not(:empty) {\n",
       "    background-color: #fec;\n",
       "    text-align: left;\n",
       "    font-weight: normal;\n",
       "}\n",
       "table.dataframe tr:nth-child(2) th:empty {\n",
       "    border-left: none;\n",
       "    border-right: 1px dashed #888;\n",
       "}\n",
       "table.dataframe td {\n",
       "    border: 2px solid #ccf;\n",
       "    background-color: #f4f4ff;\n",
       "}\n",
       "h3 {\n",
       "    color: white;\n",
       "    background-color: black;\n",
       "    padding: 0.5em;\n",
       "}\n",
       "</style>"
      ],
      "text/plain": [
       "<IPython.core.display.HTML object>"
      ]
     },
     "execution_count": 2,
     "metadata": {},
     "output_type": "execute_result"
    }
   ],
   "source": [
    "from IPython.core.display import HTML\n",
    "css = open('style-table.css').read() + open('style-notebook.css').read()\n",
    "HTML('<style>{}</style>'.format(css))"
   ]
  },
  {
   "cell_type": "code",
   "execution_count": 3,
   "metadata": {
    "collapsed": false,
    "jupyter": {
     "outputs_hidden": false
    }
   },
   "outputs": [
    {
     "data": {
      "text/html": [
       "<div>\n",
       "<style scoped>\n",
       "    .dataframe tbody tr th:only-of-type {\n",
       "        vertical-align: middle;\n",
       "    }\n",
       "\n",
       "    .dataframe tbody tr th {\n",
       "        vertical-align: top;\n",
       "    }\n",
       "\n",
       "    .dataframe thead th {\n",
       "        text-align: right;\n",
       "    }\n",
       "</style>\n",
       "<table border=\"1\" class=\"dataframe\">\n",
       "  <thead>\n",
       "    <tr style=\"text-align: right;\">\n",
       "      <th></th>\n",
       "      <th>title</th>\n",
       "      <th>year</th>\n",
       "    </tr>\n",
       "  </thead>\n",
       "  <tbody>\n",
       "    <tr>\n",
       "      <th>0</th>\n",
       "      <td>#1 Serial Killer</td>\n",
       "      <td>2013</td>\n",
       "    </tr>\n",
       "    <tr>\n",
       "      <th>1</th>\n",
       "      <td>#211</td>\n",
       "      <td>2018</td>\n",
       "    </tr>\n",
       "    <tr>\n",
       "      <th>2</th>\n",
       "      <td>#5</td>\n",
       "      <td>2013</td>\n",
       "    </tr>\n",
       "    <tr>\n",
       "      <th>3</th>\n",
       "      <td>#50Fathers</td>\n",
       "      <td>2015</td>\n",
       "    </tr>\n",
       "    <tr>\n",
       "      <th>4</th>\n",
       "      <td>#66</td>\n",
       "      <td>2015</td>\n",
       "    </tr>\n",
       "  </tbody>\n",
       "</table>\n",
       "</div>"
      ],
      "text/plain": [
       "              title  year\n",
       "0  #1 Serial Killer  2013\n",
       "1              #211  2018\n",
       "2                #5  2013\n",
       "3        #50Fathers  2015\n",
       "4               #66  2015"
      ]
     },
     "execution_count": 3,
     "metadata": {},
     "output_type": "execute_result"
    }
   ],
   "source": [
    "titles = pd.read_csv('data/titles.csv')\n",
    "titles.head()"
   ]
  },
  {
   "cell_type": "code",
   "execution_count": 4,
   "metadata": {
    "collapsed": false,
    "jupyter": {
     "outputs_hidden": false
    }
   },
   "outputs": [
    {
     "data": {
      "text/html": [
       "<div>\n",
       "<style scoped>\n",
       "    .dataframe tbody tr th:only-of-type {\n",
       "        vertical-align: middle;\n",
       "    }\n",
       "\n",
       "    .dataframe tbody tr th {\n",
       "        vertical-align: top;\n",
       "    }\n",
       "\n",
       "    .dataframe thead th {\n",
       "        text-align: right;\n",
       "    }\n",
       "</style>\n",
       "<table border=\"1\" class=\"dataframe\">\n",
       "  <thead>\n",
       "    <tr style=\"text-align: right;\">\n",
       "      <th></th>\n",
       "      <th>title</th>\n",
       "      <th>year</th>\n",
       "      <th>name</th>\n",
       "      <th>type</th>\n",
       "      <th>character</th>\n",
       "      <th>n</th>\n",
       "    </tr>\n",
       "  </thead>\n",
       "  <tbody>\n",
       "    <tr>\n",
       "      <th>0</th>\n",
       "      <td>Closet Monster</td>\n",
       "      <td>2015</td>\n",
       "      <td>Buffy #1</td>\n",
       "      <td>actor</td>\n",
       "      <td>Buffy 4</td>\n",
       "      <td>31.0</td>\n",
       "    </tr>\n",
       "    <tr>\n",
       "      <th>1</th>\n",
       "      <td>Suuri illusioni</td>\n",
       "      <td>1985</td>\n",
       "      <td>Homo $</td>\n",
       "      <td>actor</td>\n",
       "      <td>Guests</td>\n",
       "      <td>22.0</td>\n",
       "    </tr>\n",
       "    <tr>\n",
       "      <th>2</th>\n",
       "      <td>Battle of the Sexes</td>\n",
       "      <td>2017</td>\n",
       "      <td>$hutter</td>\n",
       "      <td>actor</td>\n",
       "      <td>Bobby Riggs Fan</td>\n",
       "      <td>10.0</td>\n",
       "    </tr>\n",
       "    <tr>\n",
       "      <th>3</th>\n",
       "      <td>Secret in Their Eyes</td>\n",
       "      <td>2015</td>\n",
       "      <td>$hutter</td>\n",
       "      <td>actor</td>\n",
       "      <td>2002 Dodger Fan</td>\n",
       "      <td>NaN</td>\n",
       "    </tr>\n",
       "    <tr>\n",
       "      <th>4</th>\n",
       "      <td>Steve Jobs</td>\n",
       "      <td>2015</td>\n",
       "      <td>$hutter</td>\n",
       "      <td>actor</td>\n",
       "      <td>1988 Opera House Patron</td>\n",
       "      <td>NaN</td>\n",
       "    </tr>\n",
       "  </tbody>\n",
       "</table>\n",
       "</div>"
      ],
      "text/plain": [
       "                  title  year      name   type                character     n\n",
       "0        Closet Monster  2015  Buffy #1  actor                  Buffy 4  31.0\n",
       "1       Suuri illusioni  1985    Homo $  actor                   Guests  22.0\n",
       "2   Battle of the Sexes  2017   $hutter  actor          Bobby Riggs Fan  10.0\n",
       "3  Secret in Their Eyes  2015   $hutter  actor          2002 Dodger Fan   NaN\n",
       "4            Steve Jobs  2015   $hutter  actor  1988 Opera House Patron   NaN"
      ]
     },
     "execution_count": 4,
     "metadata": {},
     "output_type": "execute_result"
    }
   ],
   "source": [
    "cast = pd.read_csv('data/cast.csv')\n",
    "cast.head()"
   ]
  },
  {
   "cell_type": "code",
   "execution_count": 5,
   "metadata": {
    "collapsed": false,
    "jupyter": {
     "outputs_hidden": false
    }
   },
   "outputs": [
    {
     "data": {
      "text/plain": [
       "270343"
      ]
     },
     "execution_count": 5,
     "metadata": {},
     "output_type": "execute_result"
    }
   ],
   "source": [
    "# How many movies are listed in the titles dataframe?\n",
    "\n",
    "len(titles)"
   ]
  },
  {
   "cell_type": "code",
   "execution_count": 6,
   "metadata": {
    "collapsed": false,
    "jupyter": {
     "outputs_hidden": false
    }
   },
   "outputs": [
    {
     "data": {
      "text/html": [
       "<div>\n",
       "<style scoped>\n",
       "    .dataframe tbody tr th:only-of-type {\n",
       "        vertical-align: middle;\n",
       "    }\n",
       "\n",
       "    .dataframe tbody tr th {\n",
       "        vertical-align: top;\n",
       "    }\n",
       "\n",
       "    .dataframe thead th {\n",
       "        text-align: right;\n",
       "    }\n",
       "</style>\n",
       "<table border=\"1\" class=\"dataframe\">\n",
       "  <thead>\n",
       "    <tr style=\"text-align: right;\">\n",
       "      <th></th>\n",
       "      <th>title</th>\n",
       "      <th>year</th>\n",
       "    </tr>\n",
       "  </thead>\n",
       "  <tbody>\n",
       "    <tr>\n",
       "      <th>147817</th>\n",
       "      <td>Miss Jerry</td>\n",
       "      <td>1894</td>\n",
       "    </tr>\n",
       "    <tr>\n",
       "      <th>235723</th>\n",
       "      <td>The Startled Lover</td>\n",
       "      <td>1898</td>\n",
       "    </tr>\n",
       "  </tbody>\n",
       "</table>\n",
       "</div>"
      ],
      "text/plain": [
       "                     title  year\n",
       "147817          Miss Jerry  1894\n",
       "235723  The Startled Lover  1898"
      ]
     },
     "execution_count": 6,
     "metadata": {},
     "output_type": "execute_result"
    }
   ],
   "source": [
    "# What are the earliest two films listed in the titles dataframe?\n",
    "\n",
    "titles.sort_values('year').head(2)"
   ]
  },
  {
   "cell_type": "code",
   "execution_count": 7,
   "metadata": {
    "collapsed": false,
    "jupyter": {
     "outputs_hidden": false
    }
   },
   "outputs": [
    {
     "data": {
      "text/plain": [
       "20"
      ]
     },
     "execution_count": 7,
     "metadata": {},
     "output_type": "execute_result"
    }
   ],
   "source": [
    "# How many movies have the title \"Hamlet\"?\n",
    "\n",
    "len(titles[titles.title == 'Hamlet'])"
   ]
  },
  {
   "cell_type": "code",
   "execution_count": 8,
   "metadata": {
    "collapsed": false,
    "jupyter": {
     "outputs_hidden": false
    }
   },
   "outputs": [
    {
     "data": {
      "text/plain": [
       "1"
      ]
     },
     "execution_count": 8,
     "metadata": {},
     "output_type": "execute_result"
    }
   ],
   "source": [
    "# How many movies are titled \"The Princess Bride\"?\n",
    "\n",
    "len(titles[titles.title == 'The Princess Bride'])"
   ]
  },
  {
   "cell_type": "code",
   "execution_count": 9,
   "metadata": {
    "collapsed": false,
    "jupyter": {
     "outputs_hidden": false
    }
   },
   "outputs": [
    {
     "data": {
      "text/html": [
       "<div>\n",
       "<style scoped>\n",
       "    .dataframe tbody tr th:only-of-type {\n",
       "        vertical-align: middle;\n",
       "    }\n",
       "\n",
       "    .dataframe tbody tr th {\n",
       "        vertical-align: top;\n",
       "    }\n",
       "\n",
       "    .dataframe thead th {\n",
       "        text-align: right;\n",
       "    }\n",
       "</style>\n",
       "<table border=\"1\" class=\"dataframe\">\n",
       "  <thead>\n",
       "    <tr style=\"text-align: right;\">\n",
       "      <th></th>\n",
       "      <th>title</th>\n",
       "      <th>year</th>\n",
       "    </tr>\n",
       "  </thead>\n",
       "  <tbody>\n",
       "    <tr>\n",
       "      <th>87862</th>\n",
       "      <td>Hamlet</td>\n",
       "      <td>1910</td>\n",
       "    </tr>\n",
       "  </tbody>\n",
       "</table>\n",
       "</div>"
      ],
      "text/plain": [
       "        title  year\n",
       "87862  Hamlet  1910"
      ]
     },
     "execution_count": 9,
     "metadata": {},
     "output_type": "execute_result"
    }
   ],
   "source": [
    "# When was the first movie titled \"Hamlet\" made?\n",
    "\n",
    "titles[titles.title == 'Hamlet'].sort_values('year').head(1)"
   ]
  },
  {
   "cell_type": "code",
   "execution_count": 10,
   "metadata": {
    "collapsed": false,
    "jupyter": {
     "outputs_hidden": false
    }
   },
   "outputs": [
    {
     "data": {
      "text/html": [
       "<div>\n",
       "<style scoped>\n",
       "    .dataframe tbody tr th:only-of-type {\n",
       "        vertical-align: middle;\n",
       "    }\n",
       "\n",
       "    .dataframe tbody tr th {\n",
       "        vertical-align: top;\n",
       "    }\n",
       "\n",
       "    .dataframe thead th {\n",
       "        text-align: right;\n",
       "    }\n",
       "</style>\n",
       "<table border=\"1\" class=\"dataframe\">\n",
       "  <thead>\n",
       "    <tr style=\"text-align: right;\">\n",
       "      <th></th>\n",
       "      <th>title</th>\n",
       "      <th>year</th>\n",
       "    </tr>\n",
       "  </thead>\n",
       "  <tbody>\n",
       "    <tr>\n",
       "      <th>244905</th>\n",
       "      <td>Treasure Island</td>\n",
       "      <td>1918</td>\n",
       "    </tr>\n",
       "    <tr>\n",
       "      <th>244906</th>\n",
       "      <td>Treasure Island</td>\n",
       "      <td>1920</td>\n",
       "    </tr>\n",
       "    <tr>\n",
       "      <th>244907</th>\n",
       "      <td>Treasure Island</td>\n",
       "      <td>1934</td>\n",
       "    </tr>\n",
       "    <tr>\n",
       "      <th>244908</th>\n",
       "      <td>Treasure Island</td>\n",
       "      <td>1950</td>\n",
       "    </tr>\n",
       "    <tr>\n",
       "      <th>244909</th>\n",
       "      <td>Treasure Island</td>\n",
       "      <td>1972</td>\n",
       "    </tr>\n",
       "    <tr>\n",
       "      <th>244910</th>\n",
       "      <td>Treasure Island</td>\n",
       "      <td>1973</td>\n",
       "    </tr>\n",
       "    <tr>\n",
       "      <th>244911</th>\n",
       "      <td>Treasure Island</td>\n",
       "      <td>1985</td>\n",
       "    </tr>\n",
       "    <tr>\n",
       "      <th>244912</th>\n",
       "      <td>Treasure Island</td>\n",
       "      <td>1999</td>\n",
       "    </tr>\n",
       "  </tbody>\n",
       "</table>\n",
       "</div>"
      ],
      "text/plain": [
       "                  title  year\n",
       "244905  Treasure Island  1918\n",
       "244906  Treasure Island  1920\n",
       "244907  Treasure Island  1934\n",
       "244908  Treasure Island  1950\n",
       "244909  Treasure Island  1972\n",
       "244910  Treasure Island  1973\n",
       "244911  Treasure Island  1985\n",
       "244912  Treasure Island  1999"
      ]
     },
     "execution_count": 10,
     "metadata": {},
     "output_type": "execute_result"
    }
   ],
   "source": [
    "# List all of the \"Treasure Island\" movies from earliest to most recent.\n",
    "\n",
    "titles[titles.title == 'Treasure Island']"
   ]
  },
  {
   "cell_type": "code",
   "execution_count": 11,
   "metadata": {
    "collapsed": false,
    "jupyter": {
     "outputs_hidden": false
    }
   },
   "outputs": [
    {
     "data": {
      "text/plain": [
       "1308"
      ]
     },
     "execution_count": 11,
     "metadata": {},
     "output_type": "execute_result"
    }
   ],
   "source": [
    "# How many movies were made in the year 1950?\n",
    "\n",
    "len(titles[titles.year == 1950])"
   ]
  },
  {
   "cell_type": "code",
   "execution_count": 12,
   "metadata": {
    "collapsed": false,
    "jupyter": {
     "outputs_hidden": false
    }
   },
   "outputs": [
    {
     "data": {
      "text/plain": [
       "1863"
      ]
     },
     "execution_count": 12,
     "metadata": {},
     "output_type": "execute_result"
    }
   ],
   "source": [
    "# How many movies were made in the year 1960?\n",
    "\n",
    "len(titles[titles.year == 1960])"
   ]
  },
  {
   "cell_type": "code",
   "execution_count": 13,
   "metadata": {
    "collapsed": false,
    "jupyter": {
     "outputs_hidden": false
    }
   },
   "outputs": [
    {
     "data": {
      "text/plain": [
       "15283"
      ]
     },
     "execution_count": 13,
     "metadata": {},
     "output_type": "execute_result"
    }
   ],
   "source": [
    "# How many movies were made from 1950 through 1959?\n",
    "\n",
    "t = titles\n",
    "len(t[(t.year >= 1950) & (t.year <= 1959)])"
   ]
  },
  {
   "cell_type": "code",
   "execution_count": 14,
   "metadata": {
    "collapsed": false,
    "jupyter": {
     "outputs_hidden": false
    }
   },
   "outputs": [
    {
     "data": {
      "text/plain": [
       "15283"
      ]
     },
     "execution_count": 14,
     "metadata": {},
     "output_type": "execute_result"
    }
   ],
   "source": [
    "len(t[t.year // 10 == 195])"
   ]
  },
  {
   "cell_type": "code",
   "execution_count": 15,
   "metadata": {
    "collapsed": false,
    "jupyter": {
     "outputs_hidden": false
    }
   },
   "outputs": [
    {
     "data": {
      "text/html": [
       "<div>\n",
       "<style scoped>\n",
       "    .dataframe tbody tr th:only-of-type {\n",
       "        vertical-align: middle;\n",
       "    }\n",
       "\n",
       "    .dataframe tbody tr th {\n",
       "        vertical-align: top;\n",
       "    }\n",
       "\n",
       "    .dataframe thead th {\n",
       "        text-align: right;\n",
       "    }\n",
       "</style>\n",
       "<table border=\"1\" class=\"dataframe\">\n",
       "  <thead>\n",
       "    <tr style=\"text-align: right;\">\n",
       "      <th></th>\n",
       "      <th>title</th>\n",
       "      <th>year</th>\n",
       "    </tr>\n",
       "  </thead>\n",
       "  <tbody>\n",
       "    <tr>\n",
       "      <th>23807</th>\n",
       "      <td>Batman</td>\n",
       "      <td>1943</td>\n",
       "    </tr>\n",
       "    <tr>\n",
       "      <th>23808</th>\n",
       "      <td>Batman</td>\n",
       "      <td>1989</td>\n",
       "    </tr>\n",
       "  </tbody>\n",
       "</table>\n",
       "</div>"
      ],
      "text/plain": [
       "        title  year\n",
       "23807  Batman  1943\n",
       "23808  Batman  1989"
      ]
     },
     "execution_count": 15,
     "metadata": {},
     "output_type": "execute_result"
    }
   ],
   "source": [
    "# In what years has a movie titled \"Batman\" been released?\n",
    "\n",
    "t = titles\n",
    "t[t.title == 'Batman']"
   ]
  },
  {
   "cell_type": "code",
   "execution_count": 16,
   "metadata": {
    "collapsed": false,
    "jupyter": {
     "outputs_hidden": false
    }
   },
   "outputs": [
    {
     "data": {
      "text/plain": [
       "78"
      ]
     },
     "execution_count": 16,
     "metadata": {},
     "output_type": "execute_result"
    }
   ],
   "source": [
    "# How many roles were there in the movie \"Inception\"?\n",
    "\n",
    "c = cast\n",
    "len(c[c.title == 'Inception'])"
   ]
  },
  {
   "cell_type": "code",
   "execution_count": 17,
   "metadata": {
    "collapsed": false,
    "jupyter": {
     "outputs_hidden": false
    }
   },
   "outputs": [
    {
     "data": {
      "text/plain": [
       "27"
      ]
     },
     "execution_count": 17,
     "metadata": {},
     "output_type": "execute_result"
    }
   ],
   "source": [
    "# How many roles in the movie \"Inception\" are NOT ranked by an \"n\" value?\n",
    "\n",
    "c = cast\n",
    "c = c[c.title == 'Inception']\n",
    "c = c[c.n.isnull()]\n",
    "len(c)"
   ]
  },
  {
   "cell_type": "code",
   "execution_count": 18,
   "metadata": {
    "collapsed": false,
    "jupyter": {
     "outputs_hidden": false
    }
   },
   "outputs": [
    {
     "data": {
      "text/plain": [
       "51"
      ]
     },
     "execution_count": 18,
     "metadata": {},
     "output_type": "execute_result"
    }
   ],
   "source": [
    "# But how many roles in the movie \"Inception\" did receive an \"n\" value?\n",
    "\n",
    "c = cast\n",
    "c = c[c.title == 'Inception']\n",
    "c = c[c.n.notnull()]\n",
    "len(c)"
   ]
  },
  {
   "cell_type": "code",
   "execution_count": 19,
   "metadata": {
    "collapsed": false,
    "jupyter": {
     "outputs_hidden": false
    }
   },
   "outputs": [
    {
     "data": {
      "text/html": [
       "<div>\n",
       "<style scoped>\n",
       "    .dataframe tbody tr th:only-of-type {\n",
       "        vertical-align: middle;\n",
       "    }\n",
       "\n",
       "    .dataframe tbody tr th {\n",
       "        vertical-align: top;\n",
       "    }\n",
       "\n",
       "    .dataframe thead th {\n",
       "        text-align: right;\n",
       "    }\n",
       "</style>\n",
       "<table border=\"1\" class=\"dataframe\">\n",
       "  <thead>\n",
       "    <tr style=\"text-align: right;\">\n",
       "      <th></th>\n",
       "      <th>title</th>\n",
       "      <th>year</th>\n",
       "      <th>name</th>\n",
       "      <th>type</th>\n",
       "      <th>character</th>\n",
       "      <th>n</th>\n",
       "    </tr>\n",
       "  </thead>\n",
       "  <tbody>\n",
       "    <tr>\n",
       "      <th>727770</th>\n",
       "      <td>The Princess Bride</td>\n",
       "      <td>1987</td>\n",
       "      <td>Cary Elwes</td>\n",
       "      <td>actor</td>\n",
       "      <td>Westley</td>\n",
       "      <td>1.0</td>\n",
       "    </tr>\n",
       "    <tr>\n",
       "      <th>1913217</th>\n",
       "      <td>The Princess Bride</td>\n",
       "      <td>1987</td>\n",
       "      <td>Mandy Patinkin</td>\n",
       "      <td>actor</td>\n",
       "      <td>Inigo Montoya</td>\n",
       "      <td>2.0</td>\n",
       "    </tr>\n",
       "    <tr>\n",
       "      <th>2199516</th>\n",
       "      <td>The Princess Bride</td>\n",
       "      <td>1987</td>\n",
       "      <td>Chris Sarandon</td>\n",
       "      <td>actor</td>\n",
       "      <td>Prince Humperdinck</td>\n",
       "      <td>3.0</td>\n",
       "    </tr>\n",
       "    <tr>\n",
       "      <th>972564</th>\n",
       "      <td>The Princess Bride</td>\n",
       "      <td>1987</td>\n",
       "      <td>Christopher Guest</td>\n",
       "      <td>actor</td>\n",
       "      <td>Count Rugen</td>\n",
       "      <td>4.0</td>\n",
       "    </tr>\n",
       "    <tr>\n",
       "      <th>2267224</th>\n",
       "      <td>The Princess Bride</td>\n",
       "      <td>1987</td>\n",
       "      <td>Wallace Shawn</td>\n",
       "      <td>actor</td>\n",
       "      <td>Vizzini</td>\n",
       "      <td>5.0</td>\n",
       "    </tr>\n",
       "    <tr>\n",
       "      <th>68622</th>\n",
       "      <td>The Princess Bride</td>\n",
       "      <td>1987</td>\n",
       "      <td>André the Giant</td>\n",
       "      <td>actor</td>\n",
       "      <td>Fezzik</td>\n",
       "      <td>6.0</td>\n",
       "    </tr>\n",
       "    <tr>\n",
       "      <th>2206950</th>\n",
       "      <td>The Princess Bride</td>\n",
       "      <td>1987</td>\n",
       "      <td>Fred Savage</td>\n",
       "      <td>actor</td>\n",
       "      <td>The Grandson</td>\n",
       "      <td>7.0</td>\n",
       "    </tr>\n",
       "    <tr>\n",
       "      <th>4108082</th>\n",
       "      <td>The Princess Bride</td>\n",
       "      <td>1987</td>\n",
       "      <td>Robin (V) Wright</td>\n",
       "      <td>actress</td>\n",
       "      <td>The Princess Bride</td>\n",
       "      <td>8.0</td>\n",
       "    </tr>\n",
       "    <tr>\n",
       "      <th>756616</th>\n",
       "      <td>The Princess Bride</td>\n",
       "      <td>1987</td>\n",
       "      <td>Peter Falk</td>\n",
       "      <td>actor</td>\n",
       "      <td>The Grandfather</td>\n",
       "      <td>9.0</td>\n",
       "    </tr>\n",
       "    <tr>\n",
       "      <th>502745</th>\n",
       "      <td>The Princess Bride</td>\n",
       "      <td>1987</td>\n",
       "      <td>Peter Cook</td>\n",
       "      <td>actor</td>\n",
       "      <td>The Impressive Clergyman</td>\n",
       "      <td>10.0</td>\n",
       "    </tr>\n",
       "    <tr>\n",
       "      <th>2323392</th>\n",
       "      <td>The Princess Bride</td>\n",
       "      <td>1987</td>\n",
       "      <td>Mel Smith</td>\n",
       "      <td>actor</td>\n",
       "      <td>The Albino</td>\n",
       "      <td>11.0</td>\n",
       "    </tr>\n",
       "    <tr>\n",
       "      <th>3374757</th>\n",
       "      <td>The Princess Bride</td>\n",
       "      <td>1987</td>\n",
       "      <td>Carol Kane</td>\n",
       "      <td>actress</td>\n",
       "      <td>Valerie</td>\n",
       "      <td>12.0</td>\n",
       "    </tr>\n",
       "    <tr>\n",
       "      <th>542012</th>\n",
       "      <td>The Princess Bride</td>\n",
       "      <td>1987</td>\n",
       "      <td>Billy Crystal</td>\n",
       "      <td>actor</td>\n",
       "      <td>Miracle Max</td>\n",
       "      <td>13.0</td>\n",
       "    </tr>\n",
       "    <tr>\n",
       "      <th>3108943</th>\n",
       "      <td>The Princess Bride</td>\n",
       "      <td>1987</td>\n",
       "      <td>Anne Dyson</td>\n",
       "      <td>actress</td>\n",
       "      <td>The Queen</td>\n",
       "      <td>14.0</td>\n",
       "    </tr>\n",
       "    <tr>\n",
       "      <th>3554093</th>\n",
       "      <td>The Princess Bride</td>\n",
       "      <td>1987</td>\n",
       "      <td>Margery Mason</td>\n",
       "      <td>actress</td>\n",
       "      <td>The Ancient Booer</td>\n",
       "      <td>15.0</td>\n",
       "    </tr>\n",
       "    <tr>\n",
       "      <th>2388955</th>\n",
       "      <td>The Princess Bride</td>\n",
       "      <td>1987</td>\n",
       "      <td>Malcolm Storry</td>\n",
       "      <td>actor</td>\n",
       "      <td>Yellin</td>\n",
       "      <td>16.0</td>\n",
       "    </tr>\n",
       "    <tr>\n",
       "      <th>950229</th>\n",
       "      <td>The Princess Bride</td>\n",
       "      <td>1987</td>\n",
       "      <td>Willoughby Gray</td>\n",
       "      <td>actor</td>\n",
       "      <td>The King</td>\n",
       "      <td>17.0</td>\n",
       "    </tr>\n",
       "    <tr>\n",
       "      <th>2907392</th>\n",
       "      <td>The Princess Bride</td>\n",
       "      <td>1987</td>\n",
       "      <td>Betsy Brantley</td>\n",
       "      <td>actress</td>\n",
       "      <td>The Mother</td>\n",
       "      <td>18.0</td>\n",
       "    </tr>\n",
       "    <tr>\n",
       "      <th>122664</th>\n",
       "      <td>The Princess Bride</td>\n",
       "      <td>1987</td>\n",
       "      <td>Paul Badger</td>\n",
       "      <td>actor</td>\n",
       "      <td>The Assistant Brute</td>\n",
       "      <td>19.0</td>\n",
       "    </tr>\n",
       "  </tbody>\n",
       "</table>\n",
       "</div>"
      ],
      "text/plain": [
       "                      title  year               name     type  \\\n",
       "727770   The Princess Bride  1987         Cary Elwes    actor   \n",
       "1913217  The Princess Bride  1987     Mandy Patinkin    actor   \n",
       "2199516  The Princess Bride  1987     Chris Sarandon    actor   \n",
       "972564   The Princess Bride  1987  Christopher Guest    actor   \n",
       "2267224  The Princess Bride  1987      Wallace Shawn    actor   \n",
       "68622    The Princess Bride  1987    André the Giant    actor   \n",
       "2206950  The Princess Bride  1987        Fred Savage    actor   \n",
       "4108082  The Princess Bride  1987   Robin (V) Wright  actress   \n",
       "756616   The Princess Bride  1987         Peter Falk    actor   \n",
       "502745   The Princess Bride  1987         Peter Cook    actor   \n",
       "2323392  The Princess Bride  1987          Mel Smith    actor   \n",
       "3374757  The Princess Bride  1987         Carol Kane  actress   \n",
       "542012   The Princess Bride  1987      Billy Crystal    actor   \n",
       "3108943  The Princess Bride  1987         Anne Dyson  actress   \n",
       "3554093  The Princess Bride  1987      Margery Mason  actress   \n",
       "2388955  The Princess Bride  1987     Malcolm Storry    actor   \n",
       "950229   The Princess Bride  1987    Willoughby Gray    actor   \n",
       "2907392  The Princess Bride  1987     Betsy Brantley  actress   \n",
       "122664   The Princess Bride  1987        Paul Badger    actor   \n",
       "\n",
       "                        character     n  \n",
       "727770                    Westley   1.0  \n",
       "1913217             Inigo Montoya   2.0  \n",
       "2199516        Prince Humperdinck   3.0  \n",
       "972564                Count Rugen   4.0  \n",
       "2267224                   Vizzini   5.0  \n",
       "68622                      Fezzik   6.0  \n",
       "2206950              The Grandson   7.0  \n",
       "4108082        The Princess Bride   8.0  \n",
       "756616            The Grandfather   9.0  \n",
       "502745   The Impressive Clergyman  10.0  \n",
       "2323392                The Albino  11.0  \n",
       "3374757                   Valerie  12.0  \n",
       "542012                Miracle Max  13.0  \n",
       "3108943                 The Queen  14.0  \n",
       "3554093         The Ancient Booer  15.0  \n",
       "2388955                    Yellin  16.0  \n",
       "950229                   The King  17.0  \n",
       "2907392                The Mother  18.0  \n",
       "122664        The Assistant Brute  19.0  "
      ]
     },
     "execution_count": 19,
     "metadata": {},
     "output_type": "execute_result"
    }
   ],
   "source": [
    "# Display the cast of \"The Princess Bride\" in their correct \"n\"-value order,\n",
    "# ignoring roles that did not earn a numeric \"n\" value.\n",
    "\n",
    "c = cast\n",
    "c = c[c.title == 'The Princess Bride']\n",
    "c = c[c.n.notnull()]\n",
    "c = c.sort_values('n')\n",
    "c"
   ]
  },
  {
   "cell_type": "code",
   "execution_count": 20,
   "metadata": {
    "collapsed": false,
    "jupyter": {
     "outputs_hidden": false
    }
   },
   "outputs": [
    {
     "data": {
      "text/html": [
       "<div>\n",
       "<style scoped>\n",
       "    .dataframe tbody tr th:only-of-type {\n",
       "        vertical-align: middle;\n",
       "    }\n",
       "\n",
       "    .dataframe tbody tr th {\n",
       "        vertical-align: top;\n",
       "    }\n",
       "\n",
       "    .dataframe thead th {\n",
       "        text-align: right;\n",
       "    }\n",
       "</style>\n",
       "<table border=\"1\" class=\"dataframe\">\n",
       "  <thead>\n",
       "    <tr style=\"text-align: right;\">\n",
       "      <th></th>\n",
       "      <th>title</th>\n",
       "      <th>year</th>\n",
       "      <th>name</th>\n",
       "      <th>type</th>\n",
       "      <th>character</th>\n",
       "      <th>n</th>\n",
       "    </tr>\n",
       "  </thead>\n",
       "  <tbody>\n",
       "    <tr>\n",
       "      <th>676451</th>\n",
       "      <td>Peter Pan</td>\n",
       "      <td>1953</td>\n",
       "      <td>Bobby Driscoll</td>\n",
       "      <td>actor</td>\n",
       "      <td>Peter Pan</td>\n",
       "      <td>1.0</td>\n",
       "    </tr>\n",
       "    <tr>\n",
       "      <th>2852197</th>\n",
       "      <td>Peter Pan</td>\n",
       "      <td>1953</td>\n",
       "      <td>Kathryn Beaumont</td>\n",
       "      <td>actress</td>\n",
       "      <td>Wendy Darling</td>\n",
       "      <td>2.0</td>\n",
       "    </tr>\n",
       "    <tr>\n",
       "      <th>498031</th>\n",
       "      <td>Peter Pan</td>\n",
       "      <td>1953</td>\n",
       "      <td>Hans Conried</td>\n",
       "      <td>actor</td>\n",
       "      <td>Captain Hook</td>\n",
       "      <td>3.0</td>\n",
       "    </tr>\n",
       "    <tr>\n",
       "      <th>498032</th>\n",
       "      <td>Peter Pan</td>\n",
       "      <td>1953</td>\n",
       "      <td>Hans Conried</td>\n",
       "      <td>actor</td>\n",
       "      <td>Mr. Darling</td>\n",
       "      <td>3.0</td>\n",
       "    </tr>\n",
       "    <tr>\n",
       "      <th>2468731</th>\n",
       "      <td>Peter Pan</td>\n",
       "      <td>1953</td>\n",
       "      <td>Bill Thompson</td>\n",
       "      <td>actor</td>\n",
       "      <td>Mr. Smee</td>\n",
       "      <td>4.0</td>\n",
       "    </tr>\n",
       "    <tr>\n",
       "      <th>2468732</th>\n",
       "      <td>Peter Pan</td>\n",
       "      <td>1953</td>\n",
       "      <td>Bill Thompson</td>\n",
       "      <td>actor</td>\n",
       "      <td>Pirates</td>\n",
       "      <td>4.0</td>\n",
       "    </tr>\n",
       "    <tr>\n",
       "      <th>2797096</th>\n",
       "      <td>Peter Pan</td>\n",
       "      <td>1953</td>\n",
       "      <td>Heather Angel</td>\n",
       "      <td>actress</td>\n",
       "      <td>Mrs. Darling</td>\n",
       "      <td>5.0</td>\n",
       "    </tr>\n",
       "    <tr>\n",
       "      <th>488720</th>\n",
       "      <td>Peter Pan</td>\n",
       "      <td>1953</td>\n",
       "      <td>Paul Collins</td>\n",
       "      <td>actor</td>\n",
       "      <td>John Darling</td>\n",
       "      <td>6.0</td>\n",
       "    </tr>\n",
       "    <tr>\n",
       "      <th>1505133</th>\n",
       "      <td>Peter Pan</td>\n",
       "      <td>1953</td>\n",
       "      <td>Tommy Luske</td>\n",
       "      <td>actor</td>\n",
       "      <td>Michael Darling</td>\n",
       "      <td>7.0</td>\n",
       "    </tr>\n",
       "    <tr>\n",
       "      <th>369186</th>\n",
       "      <td>Peter Pan</td>\n",
       "      <td>1953</td>\n",
       "      <td>Candy Candido</td>\n",
       "      <td>actor</td>\n",
       "      <td>Indian Chief</td>\n",
       "      <td>8.0</td>\n",
       "    </tr>\n",
       "    <tr>\n",
       "      <th>501186</th>\n",
       "      <td>Peter Pan</td>\n",
       "      <td>1953</td>\n",
       "      <td>Tom Conway</td>\n",
       "      <td>actor</td>\n",
       "      <td>Narrator</td>\n",
       "      <td>9.0</td>\n",
       "    </tr>\n",
       "    <tr>\n",
       "      <th>344195</th>\n",
       "      <td>Peter Pan</td>\n",
       "      <td>1953</td>\n",
       "      <td>Tony Butala</td>\n",
       "      <td>actor</td>\n",
       "      <td>Lost Boy</td>\n",
       "      <td>NaN</td>\n",
       "    </tr>\n",
       "    <tr>\n",
       "      <th>725438</th>\n",
       "      <td>Peter Pan</td>\n",
       "      <td>1953</td>\n",
       "      <td>Robert (II) Ellis</td>\n",
       "      <td>actor</td>\n",
       "      <td>Lost Boy</td>\n",
       "      <td>NaN</td>\n",
       "    </tr>\n",
       "    <tr>\n",
       "      <th>1625098</th>\n",
       "      <td>Peter Pan</td>\n",
       "      <td>1953</td>\n",
       "      <td>Johnny McGovern</td>\n",
       "      <td>actor</td>\n",
       "      <td>Lost Boy</td>\n",
       "      <td>NaN</td>\n",
       "    </tr>\n",
       "    <tr>\n",
       "      <th>2293547</th>\n",
       "      <td>Peter Pan</td>\n",
       "      <td>1953</td>\n",
       "      <td>Jeffrey Silver</td>\n",
       "      <td>actor</td>\n",
       "      <td>Lost Boy</td>\n",
       "      <td>NaN</td>\n",
       "    </tr>\n",
       "    <tr>\n",
       "      <th>2302076</th>\n",
       "      <td>Peter Pan</td>\n",
       "      <td>1953</td>\n",
       "      <td>Stuffy Singer</td>\n",
       "      <td>actor</td>\n",
       "      <td>Lost Boy</td>\n",
       "      <td>NaN</td>\n",
       "    </tr>\n",
       "    <tr>\n",
       "      <th>2886038</th>\n",
       "      <td>Peter Pan</td>\n",
       "      <td>1953</td>\n",
       "      <td>Lucille Bliss</td>\n",
       "      <td>actress</td>\n",
       "      <td>Mermaid</td>\n",
       "      <td>NaN</td>\n",
       "    </tr>\n",
       "    <tr>\n",
       "      <th>3163953</th>\n",
       "      <td>Peter Pan</td>\n",
       "      <td>1953</td>\n",
       "      <td>June Foray</td>\n",
       "      <td>actress</td>\n",
       "      <td>Mermaid</td>\n",
       "      <td>NaN</td>\n",
       "    </tr>\n",
       "    <tr>\n",
       "      <th>3163954</th>\n",
       "      <td>Peter Pan</td>\n",
       "      <td>1953</td>\n",
       "      <td>June Foray</td>\n",
       "      <td>actress</td>\n",
       "      <td>Squaw</td>\n",
       "      <td>NaN</td>\n",
       "    </tr>\n",
       "    <tr>\n",
       "      <th>3299568</th>\n",
       "      <td>Peter Pan</td>\n",
       "      <td>1953</td>\n",
       "      <td>Connie Hilton</td>\n",
       "      <td>actress</td>\n",
       "      <td>Mermaid</td>\n",
       "      <td>NaN</td>\n",
       "    </tr>\n",
       "    <tr>\n",
       "      <th>3394734</th>\n",
       "      <td>Peter Pan</td>\n",
       "      <td>1953</td>\n",
       "      <td>Margaret Kerry</td>\n",
       "      <td>actress</td>\n",
       "      <td>Mermaid</td>\n",
       "      <td>NaN</td>\n",
       "    </tr>\n",
       "  </tbody>\n",
       "</table>\n",
       "</div>"
      ],
      "text/plain": [
       "             title  year               name     type        character    n\n",
       "676451   Peter Pan  1953     Bobby Driscoll    actor        Peter Pan  1.0\n",
       "2852197  Peter Pan  1953   Kathryn Beaumont  actress    Wendy Darling  2.0\n",
       "498031   Peter Pan  1953       Hans Conried    actor     Captain Hook  3.0\n",
       "498032   Peter Pan  1953       Hans Conried    actor      Mr. Darling  3.0\n",
       "2468731  Peter Pan  1953      Bill Thompson    actor         Mr. Smee  4.0\n",
       "2468732  Peter Pan  1953      Bill Thompson    actor          Pirates  4.0\n",
       "2797096  Peter Pan  1953      Heather Angel  actress     Mrs. Darling  5.0\n",
       "488720   Peter Pan  1953       Paul Collins    actor     John Darling  6.0\n",
       "1505133  Peter Pan  1953        Tommy Luske    actor  Michael Darling  7.0\n",
       "369186   Peter Pan  1953      Candy Candido    actor     Indian Chief  8.0\n",
       "501186   Peter Pan  1953         Tom Conway    actor         Narrator  9.0\n",
       "344195   Peter Pan  1953        Tony Butala    actor         Lost Boy  NaN\n",
       "725438   Peter Pan  1953  Robert (II) Ellis    actor         Lost Boy  NaN\n",
       "1625098  Peter Pan  1953    Johnny McGovern    actor         Lost Boy  NaN\n",
       "2293547  Peter Pan  1953     Jeffrey Silver    actor         Lost Boy  NaN\n",
       "2302076  Peter Pan  1953      Stuffy Singer    actor         Lost Boy  NaN\n",
       "2886038  Peter Pan  1953      Lucille Bliss  actress          Mermaid  NaN\n",
       "3163953  Peter Pan  1953         June Foray  actress          Mermaid  NaN\n",
       "3163954  Peter Pan  1953         June Foray  actress            Squaw  NaN\n",
       "3299568  Peter Pan  1953      Connie Hilton  actress          Mermaid  NaN\n",
       "3394734  Peter Pan  1953     Margaret Kerry  actress          Mermaid  NaN"
      ]
     },
     "execution_count": 20,
     "metadata": {},
     "output_type": "execute_result"
    }
   ],
   "source": [
    "# Display the entire cast, in \"n\"-order, of the 1953 film \"Peter Pan\".\n",
    "\n",
    "c = cast\n",
    "c = c[c.title == 'Peter Pan']\n",
    "c = c[c.year == 1953]\n",
    "c = c.sort_values('n')\n",
    "c"
   ]
  },
  {
   "cell_type": "code",
   "execution_count": 21,
   "metadata": {
    "collapsed": false,
    "jupyter": {
     "outputs_hidden": false
    }
   },
   "outputs": [
    {
     "data": {
      "text/html": [
       "<div>\n",
       "<style scoped>\n",
       "    .dataframe tbody tr th:only-of-type {\n",
       "        vertical-align: middle;\n",
       "    }\n",
       "\n",
       "    .dataframe tbody tr th {\n",
       "        vertical-align: top;\n",
       "    }\n",
       "\n",
       "    .dataframe thead th {\n",
       "        text-align: right;\n",
       "    }\n",
       "</style>\n",
       "<table border=\"1\" class=\"dataframe\">\n",
       "  <thead>\n",
       "    <tr style=\"text-align: right;\">\n",
       "      <th></th>\n",
       "      <th>title</th>\n",
       "      <th>year</th>\n",
       "      <th>name</th>\n",
       "      <th>type</th>\n",
       "      <th>character</th>\n",
       "      <th>n</th>\n",
       "    </tr>\n",
       "  </thead>\n",
       "  <tbody>\n",
       "    <tr>\n",
       "      <th>1164446</th>\n",
       "      <td>Peter Pan</td>\n",
       "      <td>2003</td>\n",
       "      <td>Jason Isaacs</td>\n",
       "      <td>actor</td>\n",
       "      <td>Captain Hook</td>\n",
       "      <td>1.0</td>\n",
       "    </tr>\n",
       "    <tr>\n",
       "      <th>1164445</th>\n",
       "      <td>Peter Pan</td>\n",
       "      <td>2003</td>\n",
       "      <td>Jason Isaacs</td>\n",
       "      <td>actor</td>\n",
       "      <td>Mr. Darling</td>\n",
       "      <td>1.0</td>\n",
       "    </tr>\n",
       "    <tr>\n",
       "      <th>2407712</th>\n",
       "      <td>Peter Pan</td>\n",
       "      <td>2003</td>\n",
       "      <td>Jeremy Sumpter</td>\n",
       "      <td>actor</td>\n",
       "      <td>Peter Pan</td>\n",
       "      <td>2.0</td>\n",
       "    </tr>\n",
       "    <tr>\n",
       "      <th>3324138</th>\n",
       "      <td>Peter Pan</td>\n",
       "      <td>2003</td>\n",
       "      <td>Rachel Hurd-Wood</td>\n",
       "      <td>actress</td>\n",
       "      <td>Wendy Darling</td>\n",
       "      <td>3.0</td>\n",
       "    </tr>\n",
       "    <tr>\n",
       "      <th>3782372</th>\n",
       "      <td>Peter Pan</td>\n",
       "      <td>2003</td>\n",
       "      <td>Lynn Redgrave</td>\n",
       "      <td>actress</td>\n",
       "      <td>Aunt Millicent</td>\n",
       "      <td>4.0</td>\n",
       "    </tr>\n",
       "    <tr>\n",
       "      <th>298583</th>\n",
       "      <td>Peter Pan</td>\n",
       "      <td>2003</td>\n",
       "      <td>Richard Briers</td>\n",
       "      <td>actor</td>\n",
       "      <td>Smee</td>\n",
       "      <td>5.0</td>\n",
       "    </tr>\n",
       "    <tr>\n",
       "      <th>4092292</th>\n",
       "      <td>Peter Pan</td>\n",
       "      <td>2003</td>\n",
       "      <td>Olivia Williams</td>\n",
       "      <td>actress</td>\n",
       "      <td>Mrs. Darling</td>\n",
       "      <td>6.0</td>\n",
       "    </tr>\n",
       "    <tr>\n",
       "      <th>1888335</th>\n",
       "      <td>Peter Pan</td>\n",
       "      <td>2003</td>\n",
       "      <td>Geoffrey Palmer</td>\n",
       "      <td>actor</td>\n",
       "      <td>Sir Edward Quiller Couch</td>\n",
       "      <td>7.0</td>\n",
       "    </tr>\n",
       "    <tr>\n",
       "      <th>1799199</th>\n",
       "      <td>Peter Pan</td>\n",
       "      <td>2003</td>\n",
       "      <td>Harry Newell</td>\n",
       "      <td>actor</td>\n",
       "      <td>John Darling</td>\n",
       "      <td>8.0</td>\n",
       "    </tr>\n",
       "    <tr>\n",
       "      <th>1986391</th>\n",
       "      <td>Peter Pan</td>\n",
       "      <td>2003</td>\n",
       "      <td>Freddie Popplewell</td>\n",
       "      <td>actor</td>\n",
       "      <td>Michael Darling</td>\n",
       "      <td>9.0</td>\n",
       "    </tr>\n",
       "    <tr>\n",
       "      <th>3841588</th>\n",
       "      <td>Peter Pan</td>\n",
       "      <td>2003</td>\n",
       "      <td>Ludivine Sagnier</td>\n",
       "      <td>actress</td>\n",
       "      <td>Tink</td>\n",
       "      <td>10.0</td>\n",
       "    </tr>\n",
       "    <tr>\n",
       "      <th>439589</th>\n",
       "      <td>Peter Pan</td>\n",
       "      <td>2003</td>\n",
       "      <td>Theodore Chester</td>\n",
       "      <td>actor</td>\n",
       "      <td>Slightly</td>\n",
       "      <td>11.0</td>\n",
       "    </tr>\n",
       "    <tr>\n",
       "      <th>2298128</th>\n",
       "      <td>Peter Pan</td>\n",
       "      <td>2003</td>\n",
       "      <td>Rupert Simonian</td>\n",
       "      <td>actor</td>\n",
       "      <td>Tootles</td>\n",
       "      <td>12.0</td>\n",
       "    </tr>\n",
       "    <tr>\n",
       "      <th>1522051</th>\n",
       "      <td>Peter Pan</td>\n",
       "      <td>2003</td>\n",
       "      <td>George MacKay</td>\n",
       "      <td>actor</td>\n",
       "      <td>Curly</td>\n",
       "      <td>13.0</td>\n",
       "    </tr>\n",
       "    <tr>\n",
       "      <th>707695</th>\n",
       "      <td>Peter Pan</td>\n",
       "      <td>2003</td>\n",
       "      <td>Harry Eden</td>\n",
       "      <td>actor</td>\n",
       "      <td>Nibs</td>\n",
       "      <td>14.0</td>\n",
       "    </tr>\n",
       "    <tr>\n",
       "      <th>927205</th>\n",
       "      <td>Peter Pan</td>\n",
       "      <td>2003</td>\n",
       "      <td>Patrick Gooch</td>\n",
       "      <td>actor</td>\n",
       "      <td>Twin</td>\n",
       "      <td>15.0</td>\n",
       "    </tr>\n",
       "    <tr>\n",
       "      <th>927200</th>\n",
       "      <td>Peter Pan</td>\n",
       "      <td>2003</td>\n",
       "      <td>Lachlan Gooch</td>\n",
       "      <td>actor</td>\n",
       "      <td>Twin</td>\n",
       "      <td>16.0</td>\n",
       "    </tr>\n",
       "    <tr>\n",
       "      <th>3232820</th>\n",
       "      <td>Peter Pan</td>\n",
       "      <td>2003</td>\n",
       "      <td>Carsen Gray</td>\n",
       "      <td>actress</td>\n",
       "      <td>Tiger Lily</td>\n",
       "      <td>17.0</td>\n",
       "    </tr>\n",
       "    <tr>\n",
       "      <th>3069011</th>\n",
       "      <td>Peter Pan</td>\n",
       "      <td>2003</td>\n",
       "      <td>Maggie Dence</td>\n",
       "      <td>actress</td>\n",
       "      <td>Lady Quiller Couch</td>\n",
       "      <td>18.0</td>\n",
       "    </tr>\n",
       "    <tr>\n",
       "      <th>4060775</th>\n",
       "      <td>Peter Pan</td>\n",
       "      <td>2003</td>\n",
       "      <td>Kerry Walker</td>\n",
       "      <td>actress</td>\n",
       "      <td>Miss Fulsom</td>\n",
       "      <td>19.0</td>\n",
       "    </tr>\n",
       "    <tr>\n",
       "      <th>2627506</th>\n",
       "      <td>Peter Pan</td>\n",
       "      <td>2003</td>\n",
       "      <td>Mathew (II) Waters</td>\n",
       "      <td>actor</td>\n",
       "      <td>Messenger Boy</td>\n",
       "      <td>20.0</td>\n",
       "    </tr>\n",
       "    <tr>\n",
       "      <th>460303</th>\n",
       "      <td>Peter Pan</td>\n",
       "      <td>2003</td>\n",
       "      <td>Alan Cinis</td>\n",
       "      <td>actor</td>\n",
       "      <td>Skylights</td>\n",
       "      <td>21.0</td>\n",
       "    </tr>\n",
       "    <tr>\n",
       "      <th>2660386</th>\n",
       "      <td>Peter Pan</td>\n",
       "      <td>2003</td>\n",
       "      <td>Frank Whitten</td>\n",
       "      <td>actor</td>\n",
       "      <td>Starkey</td>\n",
       "      <td>22.0</td>\n",
       "    </tr>\n",
       "    <tr>\n",
       "      <th>2347720</th>\n",
       "      <td>Peter Pan</td>\n",
       "      <td>2003</td>\n",
       "      <td>Bruce Spence</td>\n",
       "      <td>actor</td>\n",
       "      <td>Cookson</td>\n",
       "      <td>23.0</td>\n",
       "    </tr>\n",
       "    <tr>\n",
       "      <th>2710694</th>\n",
       "      <td>Peter Pan</td>\n",
       "      <td>2003</td>\n",
       "      <td>Dan Wyllie</td>\n",
       "      <td>actor</td>\n",
       "      <td>Alf Mason</td>\n",
       "      <td>24.0</td>\n",
       "    </tr>\n",
       "    <tr>\n",
       "      <th>375625</th>\n",
       "      <td>Peter Pan</td>\n",
       "      <td>2003</td>\n",
       "      <td>Brian Carbee</td>\n",
       "      <td>actor</td>\n",
       "      <td>Albino</td>\n",
       "      <td>25.0</td>\n",
       "    </tr>\n",
       "    <tr>\n",
       "      <th>167361</th>\n",
       "      <td>Peter Pan</td>\n",
       "      <td>2003</td>\n",
       "      <td>Don Battee</td>\n",
       "      <td>actor</td>\n",
       "      <td>Giant Pirate</td>\n",
       "      <td>26.0</td>\n",
       "    </tr>\n",
       "    <tr>\n",
       "      <th>856018</th>\n",
       "      <td>Peter Pan</td>\n",
       "      <td>2003</td>\n",
       "      <td>Frank Gallacher</td>\n",
       "      <td>actor</td>\n",
       "      <td>Alsation Fogarty</td>\n",
       "      <td>27.0</td>\n",
       "    </tr>\n",
       "    <tr>\n",
       "      <th>404531</th>\n",
       "      <td>Peter Pan</td>\n",
       "      <td>2003</td>\n",
       "      <td>Septimus Caton</td>\n",
       "      <td>actor</td>\n",
       "      <td>Noodler</td>\n",
       "      <td>28.0</td>\n",
       "    </tr>\n",
       "    <tr>\n",
       "      <th>2489160</th>\n",
       "      <td>Peter Pan</td>\n",
       "      <td>2003</td>\n",
       "      <td>Jacob Tomuri</td>\n",
       "      <td>actor</td>\n",
       "      <td>Bill Jukes</td>\n",
       "      <td>29.0</td>\n",
       "    </tr>\n",
       "    <tr>\n",
       "      <th>2697883</th>\n",
       "      <td>Peter Pan</td>\n",
       "      <td>2003</td>\n",
       "      <td>Venant Wong</td>\n",
       "      <td>actor</td>\n",
       "      <td>Quang Lee</td>\n",
       "      <td>30.0</td>\n",
       "    </tr>\n",
       "    <tr>\n",
       "      <th>1641601</th>\n",
       "      <td>Peter Pan</td>\n",
       "      <td>2003</td>\n",
       "      <td>Phil Meacham</td>\n",
       "      <td>actor</td>\n",
       "      <td>Bollard</td>\n",
       "      <td>31.0</td>\n",
       "    </tr>\n",
       "    <tr>\n",
       "      <th>1694004</th>\n",
       "      <td>Peter Pan</td>\n",
       "      <td>2003</td>\n",
       "      <td>Darren Andrew Mitchell</td>\n",
       "      <td>actor</td>\n",
       "      <td>Mullins</td>\n",
       "      <td>32.0</td>\n",
       "    </tr>\n",
       "    <tr>\n",
       "      <th>2145218</th>\n",
       "      <td>Peter Pan</td>\n",
       "      <td>2003</td>\n",
       "      <td>Michael Roughan</td>\n",
       "      <td>actor</td>\n",
       "      <td>Cecco</td>\n",
       "      <td>33.0</td>\n",
       "    </tr>\n",
       "    <tr>\n",
       "      <th>1286012</th>\n",
       "      <td>Peter Pan</td>\n",
       "      <td>2003</td>\n",
       "      <td>Bill Kerr</td>\n",
       "      <td>actor</td>\n",
       "      <td>Fairy Guide</td>\n",
       "      <td>34.0</td>\n",
       "    </tr>\n",
       "    <tr>\n",
       "      <th>3518430</th>\n",
       "      <td>Peter Pan</td>\n",
       "      <td>2003</td>\n",
       "      <td>Celeste MacIlwaine</td>\n",
       "      <td>actress</td>\n",
       "      <td>Sleeping Children</td>\n",
       "      <td>35.0</td>\n",
       "    </tr>\n",
       "    <tr>\n",
       "      <th>1098877</th>\n",
       "      <td>Peter Pan</td>\n",
       "      <td>2003</td>\n",
       "      <td>Spike Hogan</td>\n",
       "      <td>actor</td>\n",
       "      <td>Sleeping Children</td>\n",
       "      <td>36.0</td>\n",
       "    </tr>\n",
       "    <tr>\n",
       "      <th>1139940</th>\n",
       "      <td>Peter Pan</td>\n",
       "      <td>2003</td>\n",
       "      <td>Patrick Hurd-Wood</td>\n",
       "      <td>actor</td>\n",
       "      <td>Sleeping Children</td>\n",
       "      <td>37.0</td>\n",
       "    </tr>\n",
       "    <tr>\n",
       "      <th>3102944</th>\n",
       "      <td>Peter Pan</td>\n",
       "      <td>2003</td>\n",
       "      <td>Brooke Duncan</td>\n",
       "      <td>actress</td>\n",
       "      <td>Sleeping Children</td>\n",
       "      <td>38.0</td>\n",
       "    </tr>\n",
       "    <tr>\n",
       "      <th>2901097</th>\n",
       "      <td>Peter Pan</td>\n",
       "      <td>2003</td>\n",
       "      <td>Themora Bourne</td>\n",
       "      <td>actress</td>\n",
       "      <td>Sleeping Children</td>\n",
       "      <td>39.0</td>\n",
       "    </tr>\n",
       "    <tr>\n",
       "      <th>272148</th>\n",
       "      <td>Peter Pan</td>\n",
       "      <td>2003</td>\n",
       "      <td>Alexander Bourne</td>\n",
       "      <td>actor</td>\n",
       "      <td>Sleeping Children</td>\n",
       "      <td>40.0</td>\n",
       "    </tr>\n",
       "    <tr>\n",
       "      <th>1766267</th>\n",
       "      <td>Peter Pan</td>\n",
       "      <td>2003</td>\n",
       "      <td>Bruce Myles</td>\n",
       "      <td>actor</td>\n",
       "      <td>Bank Manager</td>\n",
       "      <td>41.0</td>\n",
       "    </tr>\n",
       "    <tr>\n",
       "      <th>2839369</th>\n",
       "      <td>Peter Pan</td>\n",
       "      <td>2003</td>\n",
       "      <td>Maya Barnaby</td>\n",
       "      <td>actress</td>\n",
       "      <td>Mermaid</td>\n",
       "      <td>42.0</td>\n",
       "    </tr>\n",
       "    <tr>\n",
       "      <th>3639523</th>\n",
       "      <td>Peter Pan</td>\n",
       "      <td>2003</td>\n",
       "      <td>Tory Mussett</td>\n",
       "      <td>actress</td>\n",
       "      <td>Mermaid</td>\n",
       "      <td>43.0</td>\n",
       "    </tr>\n",
       "    <tr>\n",
       "      <th>3600344</th>\n",
       "      <td>Peter Pan</td>\n",
       "      <td>2003</td>\n",
       "      <td>Ursula Mills</td>\n",
       "      <td>actress</td>\n",
       "      <td>Mermaid</td>\n",
       "      <td>44.0</td>\n",
       "    </tr>\n",
       "    <tr>\n",
       "      <th>3740476</th>\n",
       "      <td>Peter Pan</td>\n",
       "      <td>2003</td>\n",
       "      <td>Nadia Pirini</td>\n",
       "      <td>actress</td>\n",
       "      <td>Mermaid</td>\n",
       "      <td>45.0</td>\n",
       "    </tr>\n",
       "    <tr>\n",
       "      <th>3370646</th>\n",
       "      <td>Peter Pan</td>\n",
       "      <td>2003</td>\n",
       "      <td>Vij Kaewsanan</td>\n",
       "      <td>actress</td>\n",
       "      <td>Mermaid</td>\n",
       "      <td>46.0</td>\n",
       "    </tr>\n",
       "    <tr>\n",
       "      <th>3950927</th>\n",
       "      <td>Peter Pan</td>\n",
       "      <td>2003</td>\n",
       "      <td>Janet Strauss</td>\n",
       "      <td>actress</td>\n",
       "      <td>Medicine Woman</td>\n",
       "      <td>47.0</td>\n",
       "    </tr>\n",
       "    <tr>\n",
       "      <th>3622224</th>\n",
       "      <td>Peter Pan</td>\n",
       "      <td>2003</td>\n",
       "      <td>Sam Morely</td>\n",
       "      <td>actress</td>\n",
       "      <td>Fairy Bride</td>\n",
       "      <td>48.0</td>\n",
       "    </tr>\n",
       "    <tr>\n",
       "      <th>2260063</th>\n",
       "      <td>Peter Pan</td>\n",
       "      <td>2003</td>\n",
       "      <td>Brendan Shambrook</td>\n",
       "      <td>actor</td>\n",
       "      <td>Fairy Groom</td>\n",
       "      <td>49.0</td>\n",
       "    </tr>\n",
       "    <tr>\n",
       "      <th>2931663</th>\n",
       "      <td>Peter Pan</td>\n",
       "      <td>2003</td>\n",
       "      <td>Saffron Burrows</td>\n",
       "      <td>actress</td>\n",
       "      <td>Story Narrator</td>\n",
       "      <td>50.0</td>\n",
       "    </tr>\n",
       "    <tr>\n",
       "      <th>3781660</th>\n",
       "      <td>Peter Pan</td>\n",
       "      <td>2003</td>\n",
       "      <td>Rebel (II)</td>\n",
       "      <td>actress</td>\n",
       "      <td>Nana</td>\n",
       "      <td>51.0</td>\n",
       "    </tr>\n",
       "  </tbody>\n",
       "</table>\n",
       "</div>"
      ],
      "text/plain": [
       "             title  year                    name     type  \\\n",
       "1164446  Peter Pan  2003            Jason Isaacs    actor   \n",
       "1164445  Peter Pan  2003            Jason Isaacs    actor   \n",
       "2407712  Peter Pan  2003          Jeremy Sumpter    actor   \n",
       "3324138  Peter Pan  2003        Rachel Hurd-Wood  actress   \n",
       "3782372  Peter Pan  2003           Lynn Redgrave  actress   \n",
       "298583   Peter Pan  2003          Richard Briers    actor   \n",
       "4092292  Peter Pan  2003         Olivia Williams  actress   \n",
       "1888335  Peter Pan  2003         Geoffrey Palmer    actor   \n",
       "1799199  Peter Pan  2003            Harry Newell    actor   \n",
       "1986391  Peter Pan  2003      Freddie Popplewell    actor   \n",
       "3841588  Peter Pan  2003        Ludivine Sagnier  actress   \n",
       "439589   Peter Pan  2003        Theodore Chester    actor   \n",
       "2298128  Peter Pan  2003         Rupert Simonian    actor   \n",
       "1522051  Peter Pan  2003           George MacKay    actor   \n",
       "707695   Peter Pan  2003              Harry Eden    actor   \n",
       "927205   Peter Pan  2003           Patrick Gooch    actor   \n",
       "927200   Peter Pan  2003           Lachlan Gooch    actor   \n",
       "3232820  Peter Pan  2003             Carsen Gray  actress   \n",
       "3069011  Peter Pan  2003            Maggie Dence  actress   \n",
       "4060775  Peter Pan  2003            Kerry Walker  actress   \n",
       "2627506  Peter Pan  2003      Mathew (II) Waters    actor   \n",
       "460303   Peter Pan  2003              Alan Cinis    actor   \n",
       "2660386  Peter Pan  2003           Frank Whitten    actor   \n",
       "2347720  Peter Pan  2003            Bruce Spence    actor   \n",
       "2710694  Peter Pan  2003              Dan Wyllie    actor   \n",
       "375625   Peter Pan  2003            Brian Carbee    actor   \n",
       "167361   Peter Pan  2003              Don Battee    actor   \n",
       "856018   Peter Pan  2003         Frank Gallacher    actor   \n",
       "404531   Peter Pan  2003          Septimus Caton    actor   \n",
       "2489160  Peter Pan  2003            Jacob Tomuri    actor   \n",
       "2697883  Peter Pan  2003             Venant Wong    actor   \n",
       "1641601  Peter Pan  2003            Phil Meacham    actor   \n",
       "1694004  Peter Pan  2003  Darren Andrew Mitchell    actor   \n",
       "2145218  Peter Pan  2003         Michael Roughan    actor   \n",
       "1286012  Peter Pan  2003               Bill Kerr    actor   \n",
       "3518430  Peter Pan  2003      Celeste MacIlwaine  actress   \n",
       "1098877  Peter Pan  2003             Spike Hogan    actor   \n",
       "1139940  Peter Pan  2003       Patrick Hurd-Wood    actor   \n",
       "3102944  Peter Pan  2003           Brooke Duncan  actress   \n",
       "2901097  Peter Pan  2003          Themora Bourne  actress   \n",
       "272148   Peter Pan  2003        Alexander Bourne    actor   \n",
       "1766267  Peter Pan  2003             Bruce Myles    actor   \n",
       "2839369  Peter Pan  2003            Maya Barnaby  actress   \n",
       "3639523  Peter Pan  2003            Tory Mussett  actress   \n",
       "3600344  Peter Pan  2003            Ursula Mills  actress   \n",
       "3740476  Peter Pan  2003            Nadia Pirini  actress   \n",
       "3370646  Peter Pan  2003           Vij Kaewsanan  actress   \n",
       "3950927  Peter Pan  2003           Janet Strauss  actress   \n",
       "3622224  Peter Pan  2003              Sam Morely  actress   \n",
       "2260063  Peter Pan  2003       Brendan Shambrook    actor   \n",
       "2931663  Peter Pan  2003         Saffron Burrows  actress   \n",
       "3781660  Peter Pan  2003              Rebel (II)  actress   \n",
       "\n",
       "                        character     n  \n",
       "1164446              Captain Hook   1.0  \n",
       "1164445               Mr. Darling   1.0  \n",
       "2407712                 Peter Pan   2.0  \n",
       "3324138             Wendy Darling   3.0  \n",
       "3782372            Aunt Millicent   4.0  \n",
       "298583                       Smee   5.0  \n",
       "4092292              Mrs. Darling   6.0  \n",
       "1888335  Sir Edward Quiller Couch   7.0  \n",
       "1799199              John Darling   8.0  \n",
       "1986391           Michael Darling   9.0  \n",
       "3841588                      Tink  10.0  \n",
       "439589                   Slightly  11.0  \n",
       "2298128                   Tootles  12.0  \n",
       "1522051                     Curly  13.0  \n",
       "707695                       Nibs  14.0  \n",
       "927205                       Twin  15.0  \n",
       "927200                       Twin  16.0  \n",
       "3232820                Tiger Lily  17.0  \n",
       "3069011        Lady Quiller Couch  18.0  \n",
       "4060775               Miss Fulsom  19.0  \n",
       "2627506             Messenger Boy  20.0  \n",
       "460303                  Skylights  21.0  \n",
       "2660386                   Starkey  22.0  \n",
       "2347720                   Cookson  23.0  \n",
       "2710694                 Alf Mason  24.0  \n",
       "375625                     Albino  25.0  \n",
       "167361               Giant Pirate  26.0  \n",
       "856018           Alsation Fogarty  27.0  \n",
       "404531                    Noodler  28.0  \n",
       "2489160                Bill Jukes  29.0  \n",
       "2697883                 Quang Lee  30.0  \n",
       "1641601                   Bollard  31.0  \n",
       "1694004                   Mullins  32.0  \n",
       "2145218                     Cecco  33.0  \n",
       "1286012               Fairy Guide  34.0  \n",
       "3518430         Sleeping Children  35.0  \n",
       "1098877         Sleeping Children  36.0  \n",
       "1139940         Sleeping Children  37.0  \n",
       "3102944         Sleeping Children  38.0  \n",
       "2901097         Sleeping Children  39.0  \n",
       "272148          Sleeping Children  40.0  \n",
       "1766267              Bank Manager  41.0  \n",
       "2839369                   Mermaid  42.0  \n",
       "3639523                   Mermaid  43.0  \n",
       "3600344                   Mermaid  44.0  \n",
       "3740476                   Mermaid  45.0  \n",
       "3370646                   Mermaid  46.0  \n",
       "3950927            Medicine Woman  47.0  \n",
       "3622224               Fairy Bride  48.0  \n",
       "2260063               Fairy Groom  49.0  \n",
       "2931663            Story Narrator  50.0  \n",
       "3781660                      Nana  51.0  "
      ]
     },
     "execution_count": 21,
     "metadata": {},
     "output_type": "execute_result"
    }
   ],
   "source": [
    "# Now display the entire cast, in \"n\"-order, of the 2003 version of \"Peter Pan\".\n",
    "\n",
    "c = cast\n",
    "c = c[c.title == 'Peter Pan']\n",
    "c = c[c.year == 2003]\n",
    "c = c.sort_values('n')\n",
    "c"
   ]
  },
  {
   "cell_type": "code",
   "execution_count": 22,
   "metadata": {
    "collapsed": false,
    "jupyter": {
     "outputs_hidden": false
    }
   },
   "outputs": [
    {
     "data": {
      "text/plain": [
       "9"
      ]
     },
     "execution_count": 22,
     "metadata": {},
     "output_type": "execute_result"
    }
   ],
   "source": [
    "# How many roles (the number of lines in the cast dataframe) were in the 1921 version of Hamlet (Which was a silent movie)?\n",
    "\n",
    "c = cast\n",
    "c = c[(c.title == 'Hamlet') & (c.year == 1921)]\n",
    "len(c)"
   ]
  },
  {
   "cell_type": "code",
   "execution_count": 23,
   "metadata": {
    "collapsed": false,
    "jupyter": {
     "outputs_hidden": false
    }
   },
   "outputs": [
    {
     "data": {
      "text/plain": [
       "54"
      ]
     },
     "execution_count": 23,
     "metadata": {},
     "output_type": "execute_result"
    }
   ],
   "source": [
    "# How many roles were in 1996 Hamlet (Directed by Branagh)?\n",
    "\n",
    "c = cast\n",
    "c = c[(c.title == 'Hamlet') & (c.year == 1996)]\n",
    "len(c)"
   ]
  },
  {
   "cell_type": "code",
   "execution_count": 24,
   "metadata": {
    "collapsed": false,
    "jupyter": {
     "outputs_hidden": false
    }
   },
   "outputs": [
    {
     "data": {
      "text/plain": [
       "101"
      ]
     },
     "execution_count": 24,
     "metadata": {},
     "output_type": "execute_result"
    }
   ],
   "source": [
    "# How many \"Hamlet\" roles (**Hamlet** as a **character**) have been listed in all film credits through history?\n",
    "\n",
    "c = cast\n",
    "c = c[c.character == 'Hamlet']\n",
    "len(c)"
   ]
  },
  {
   "cell_type": "code",
   "execution_count": 25,
   "metadata": {
    "collapsed": false,
    "jupyter": {
     "outputs_hidden": false
    }
   },
   "outputs": [
    {
     "data": {
      "text/plain": [
       "19"
      ]
     },
     "execution_count": 25,
     "metadata": {},
     "output_type": "execute_result"
    }
   ],
   "source": [
    "# How many people have played a role (a character) called \"The Dude\"?\n",
    "\n",
    "c = cast\n",
    "c = c[c.character == 'The Dude'].name.unique()\n",
    "len(c)"
   ]
  },
  {
   "cell_type": "code",
   "execution_count": 26,
   "metadata": {
    "collapsed": false,
    "jupyter": {
     "outputs_hidden": false
    }
   },
   "outputs": [
    {
     "data": {
      "text/plain": [
       "116"
      ]
     },
     "execution_count": 26,
     "metadata": {},
     "output_type": "execute_result"
    }
   ],
   "source": [
    "# How many people have played a character called \"Ophelia\"?\n",
    "\n",
    "c = cast\n",
    "c = c[c.character == 'Ophelia']\n",
    "len(c)\n",
    "\n",
    "# That was my original answer.\n",
    "# But 9peppe on GitHub points out I am wrong! Instead:\n",
    "\n",
    "len(cast[cast.character == \"Ophelia\"].name.unique())\n",
    "\n",
    "# Can you work out why the two answers are different?"
   ]
  },
  {
   "cell_type": "code",
   "execution_count": 27,
   "metadata": {
    "collapsed": false,
    "jupyter": {
     "outputs_hidden": false
    }
   },
   "outputs": [
    {
     "data": {
      "text/plain": [
       "29"
      ]
     },
     "execution_count": 27,
     "metadata": {},
     "output_type": "execute_result"
    }
   ],
   "source": [
    "# How many roles has Mike Myers played throughout his career?\n",
    "\n",
    "c = cast\n",
    "c = c[c.name == 'Mike Myers']\n",
    "len(c)"
   ]
  },
  {
   "cell_type": "code",
   "execution_count": 28,
   "metadata": {
    "collapsed": false,
    "jupyter": {
     "outputs_hidden": false
    }
   },
   "outputs": [
    {
     "data": {
      "text/plain": [
       "52"
      ]
     },
     "execution_count": 28,
     "metadata": {},
     "output_type": "execute_result"
    }
   ],
   "source": [
    "# How many roles has Uma Thurman played?\n",
    "\n",
    "c = cast\n",
    "c = c[c.name == 'Uma Thurman']\n",
    "len(c)"
   ]
  },
  {
   "cell_type": "code",
   "execution_count": 29,
   "metadata": {
    "collapsed": false,
    "jupyter": {
     "outputs_hidden": false
    }
   },
   "outputs": [
    {
     "data": {
      "text/html": [
       "<div>\n",
       "<style scoped>\n",
       "    .dataframe tbody tr th:only-of-type {\n",
       "        vertical-align: middle;\n",
       "    }\n",
       "\n",
       "    .dataframe tbody tr th {\n",
       "        vertical-align: top;\n",
       "    }\n",
       "\n",
       "    .dataframe thead th {\n",
       "        text-align: right;\n",
       "    }\n",
       "</style>\n",
       "<table border=\"1\" class=\"dataframe\">\n",
       "  <thead>\n",
       "    <tr style=\"text-align: right;\">\n",
       "      <th></th>\n",
       "      <th>title</th>\n",
       "      <th>year</th>\n",
       "      <th>name</th>\n",
       "      <th>type</th>\n",
       "      <th>character</th>\n",
       "      <th>n</th>\n",
       "    </tr>\n",
       "  </thead>\n",
       "  <tbody>\n",
       "    <tr>\n",
       "      <th>3992918</th>\n",
       "      <td>Henry &amp; June</td>\n",
       "      <td>1990</td>\n",
       "      <td>Uma Thurman</td>\n",
       "      <td>actress</td>\n",
       "      <td>June Miller</td>\n",
       "      <td>2.0</td>\n",
       "    </tr>\n",
       "    <tr>\n",
       "      <th>3992955</th>\n",
       "      <td>Where the Heart Is</td>\n",
       "      <td>1990</td>\n",
       "      <td>Uma Thurman</td>\n",
       "      <td>actress</td>\n",
       "      <td>Daphne McBain</td>\n",
       "      <td>2.0</td>\n",
       "    </tr>\n",
       "    <tr>\n",
       "      <th>3992914</th>\n",
       "      <td>Dylan Thomas</td>\n",
       "      <td>1991</td>\n",
       "      <td>Uma Thurman</td>\n",
       "      <td>actress</td>\n",
       "      <td>Caitlin Thomas</td>\n",
       "      <td>2.0</td>\n",
       "    </tr>\n",
       "    <tr>\n",
       "      <th>3992939</th>\n",
       "      <td>Robin Hood</td>\n",
       "      <td>1991</td>\n",
       "      <td>Uma Thurman</td>\n",
       "      <td>actress</td>\n",
       "      <td>Maid Marian</td>\n",
       "      <td>2.0</td>\n",
       "    </tr>\n",
       "    <tr>\n",
       "      <th>3992927</th>\n",
       "      <td>Mad Dog and Glory</td>\n",
       "      <td>1993</td>\n",
       "      <td>Uma Thurman</td>\n",
       "      <td>actress</td>\n",
       "      <td>Glory</td>\n",
       "      <td>2.0</td>\n",
       "    </tr>\n",
       "    <tr>\n",
       "      <th>3992917</th>\n",
       "      <td>Gattaca</td>\n",
       "      <td>1997</td>\n",
       "      <td>Uma Thurman</td>\n",
       "      <td>actress</td>\n",
       "      <td>Irene Cassini</td>\n",
       "      <td>2.0</td>\n",
       "    </tr>\n",
       "    <tr>\n",
       "      <th>3992945</th>\n",
       "      <td>The Avengers</td>\n",
       "      <td>1998</td>\n",
       "      <td>Uma Thurman</td>\n",
       "      <td>actress</td>\n",
       "      <td>Emma Peel</td>\n",
       "      <td>2.0</td>\n",
       "    </tr>\n",
       "  </tbody>\n",
       "</table>\n",
       "</div>"
      ],
      "text/plain": [
       "                      title  year         name     type       character    n\n",
       "3992918        Henry & June  1990  Uma Thurman  actress     June Miller  2.0\n",
       "3992955  Where the Heart Is  1990  Uma Thurman  actress   Daphne McBain  2.0\n",
       "3992914        Dylan Thomas  1991  Uma Thurman  actress  Caitlin Thomas  2.0\n",
       "3992939          Robin Hood  1991  Uma Thurman  actress     Maid Marian  2.0\n",
       "3992927   Mad Dog and Glory  1993  Uma Thurman  actress           Glory  2.0\n",
       "3992917             Gattaca  1997  Uma Thurman  actress   Irene Cassini  2.0\n",
       "3992945        The Avengers  1998  Uma Thurman  actress       Emma Peel  2.0"
      ]
     },
     "execution_count": 29,
     "metadata": {},
     "output_type": "execute_result"
    }
   ],
   "source": [
    "# List the supporting roles (having n=2) played by Uma Thurman in the 1990s,\n",
    "# in order by year.\n",
    "\n",
    "c = cast\n",
    "c = c[c.name == 'Uma Thurman']\n",
    "c = c[c.year.between(1990, 1999)]\n",
    "c = c[c.n == 2]\n",
    "c = c.sort_values('year')\n",
    "c"
   ]
  },
  {
   "cell_type": "code",
   "execution_count": 30,
   "metadata": {
    "collapsed": false,
    "jupyter": {
     "outputs_hidden": false
    }
   },
   "outputs": [
    {
     "data": {
      "text/html": [
       "<div>\n",
       "<style scoped>\n",
       "    .dataframe tbody tr th:only-of-type {\n",
       "        vertical-align: middle;\n",
       "    }\n",
       "\n",
       "    .dataframe tbody tr th {\n",
       "        vertical-align: top;\n",
       "    }\n",
       "\n",
       "    .dataframe thead th {\n",
       "        text-align: right;\n",
       "    }\n",
       "</style>\n",
       "<table border=\"1\" class=\"dataframe\">\n",
       "  <thead>\n",
       "    <tr style=\"text-align: right;\">\n",
       "      <th></th>\n",
       "      <th>title</th>\n",
       "      <th>year</th>\n",
       "      <th>name</th>\n",
       "      <th>type</th>\n",
       "      <th>character</th>\n",
       "      <th>n</th>\n",
       "    </tr>\n",
       "  </thead>\n",
       "  <tbody>\n",
       "    <tr>\n",
       "      <th>3992915</th>\n",
       "      <td>Even Cowgirls Get the Blues</td>\n",
       "      <td>1993</td>\n",
       "      <td>Uma Thurman</td>\n",
       "      <td>actress</td>\n",
       "      <td>Sissy Hankshaw</td>\n",
       "      <td>1.0</td>\n",
       "    </tr>\n",
       "    <tr>\n",
       "      <th>3992952</th>\n",
       "      <td>The Truth About Cats &amp; Dogs</td>\n",
       "      <td>1996</td>\n",
       "      <td>Uma Thurman</td>\n",
       "      <td>actress</td>\n",
       "      <td>Noelle</td>\n",
       "      <td>1.0</td>\n",
       "    </tr>\n",
       "  </tbody>\n",
       "</table>\n",
       "</div>"
      ],
      "text/plain": [
       "                               title  year         name     type  \\\n",
       "3992915  Even Cowgirls Get the Blues  1993  Uma Thurman  actress   \n",
       "3992952  The Truth About Cats & Dogs  1996  Uma Thurman  actress   \n",
       "\n",
       "              character    n  \n",
       "3992915  Sissy Hankshaw  1.0  \n",
       "3992952          Noelle  1.0  "
      ]
     },
     "execution_count": 30,
     "metadata": {},
     "output_type": "execute_result"
    }
   ],
   "source": [
    "# List the leading roles (having n=1) played by Uma Thurman in the 1990s,\n",
    "# in order by year.\n",
    "\n",
    "c = cast\n",
    "c = c[c.name == 'Uma Thurman']\n",
    "c = c[c.year.between(1990, 1999)]\n",
    "c = c[c.n == 1]\n",
    "c = c.sort_values('year')\n",
    "c"
   ]
  },
  {
   "cell_type": "code",
   "execution_count": 31,
   "metadata": {
    "collapsed": false,
    "jupyter": {
     "outputs_hidden": false
    }
   },
   "outputs": [
    {
     "data": {
      "text/plain": [
       "180581"
      ]
     },
     "execution_count": 31,
     "metadata": {},
     "output_type": "execute_result"
    }
   ],
   "source": [
    "# How many roles were available for actors in the 1950s?\n",
    "\n",
    "c = cast\n",
    "c = c[c.year // 10 == 195]\n",
    "c = c[c.type == 'actor']\n",
    "len(c)"
   ]
  },
  {
   "cell_type": "code",
   "execution_count": 32,
   "metadata": {
    "collapsed": false,
    "jupyter": {
     "outputs_hidden": false
    }
   },
   "outputs": [
    {
     "data": {
      "text/plain": [
       "69060"
      ]
     },
     "execution_count": 32,
     "metadata": {},
     "output_type": "execute_result"
    }
   ],
   "source": [
    "# How many roles were available for actresses in the 1950s?\n",
    "\n",
    "c = cast\n",
    "c = c[c.year // 10 == 195]\n",
    "c = c[c.type == 'actress']\n",
    "len(c)"
   ]
  },
  {
   "cell_type": "code",
   "execution_count": 33,
   "metadata": {
    "collapsed": false,
    "jupyter": {
     "outputs_hidden": false
    }
   },
   "outputs": [
    {
     "data": {
      "text/plain": [
       "74320"
      ]
     },
     "execution_count": 33,
     "metadata": {},
     "output_type": "execute_result"
    }
   ],
   "source": [
    "# How many leading roles (n=1) were available\n",
    "# from the beginning of film history through 1980?\n",
    "\n",
    "c = cast\n",
    "c = c[c.year <= 1980]\n",
    "c = c[c.n == 1]\n",
    "len(c)"
   ]
  },
  {
   "cell_type": "code",
   "execution_count": 34,
   "metadata": {
    "collapsed": false,
    "jupyter": {
     "outputs_hidden": false
    }
   },
   "outputs": [
    {
     "data": {
      "text/plain": [
       "1266204"
      ]
     },
     "execution_count": 34,
     "metadata": {},
     "output_type": "execute_result"
    }
   ],
   "source": [
    "# How many non-leading roles were available through\n",
    "# from the beginning of film history through 1980?\n",
    "\n",
    "c = cast\n",
    "c = c[c.year <= 1980]\n",
    "c = c[c.n != 1]\n",
    "len(c)"
   ]
  },
  {
   "cell_type": "code",
   "execution_count": 35,
   "metadata": {
    "collapsed": false,
    "jupyter": {
     "outputs_hidden": false
    }
   },
   "outputs": [
    {
     "data": {
      "text/plain": [
       "495093"
      ]
     },
     "execution_count": 35,
     "metadata": {},
     "output_type": "execute_result"
    }
   ],
   "source": [
    "# How many roles through 1980 were minor enough\n",
    "# that they did not warrant a numeric \"n\" rank?\n",
    "\n",
    "c = cast\n",
    "c = c[c.year <= 1980]\n",
    "c = c[c.n.isnull()]\n",
    "len(c)"
   ]
  }
 ],
 "metadata": {
  "kernelspec": {
   "display_name": "Python 3",
   "language": "python",
   "name": "python3"
  },
  "language_info": {
   "codemirror_mode": {
    "name": "ipython",
    "version": 3
   },
   "file_extension": ".py",
   "mimetype": "text/x-python",
   "name": "python",
   "nbconvert_exporter": "python",
   "pygments_lexer": "ipython3",
   "version": "3.8.2"
  }
 },
 "nbformat": 4,
 "nbformat_minor": 4
}
